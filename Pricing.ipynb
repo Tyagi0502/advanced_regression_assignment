{
  "cells": [
    {
      "cell_type": "code",
      "execution_count": 70,
      "metadata": {
        "id": "xfN2dmfKnFRS"
      },
      "outputs": [],
      "source": [
        "# import required libraries\n",
        "\n",
        "import pandas as pd\n",
        "import numpy as np\n",
        "import matplotlib.pyplot as plt\n",
        "import seaborn as sns\n",
        "from sklearn.model_selection import KFold, GridSearchCV, train_test_split\n",
        "from sklearn.preprocessing import MinMaxScaler\n",
        "from sklearn.feature_selection import RFE\n",
        "from sklearn.linear_model import LinearRegression, Ridge, Lasso\n",
        "from sklearn.metrics import mean_squared_error\n",
        "import statsmodels.api as sm\n",
        "from statsmodels.stats.outliers_influence import variance_inflation_factor\n",
        "from sklearn.metrics import r2_score"
      ]
    },
    {
      "cell_type": "markdown",
      "metadata": {
        "id": "oRilvX_WneI6"
      },
      "source": [
        "# Load Data"
      ]
    },
    {
      "cell_type": "code",
      "execution_count": 4,
      "metadata": {
        "id": "qUXZBdGYnWIo"
      },
      "outputs": [],
      "source": [
        "df = pd.read_csv('train.csv')"
      ]
    },
    {
      "cell_type": "markdown",
      "metadata": {
        "id": "yhQ-hzF12XFQ"
      },
      "source": [
        "# Data Cleaning"
      ]
    },
    {
      "cell_type": "code",
      "execution_count": 5,
      "metadata": {
        "colab": {
          "base_uri": "https://localhost:8080/"
        },
        "id": "L-5xXQAvnoJi",
        "outputId": "35dd4261-bfd3-47fc-a8e7-69bf80d8b8d6"
      },
      "outputs": [
        {
          "name": "stdout",
          "output_type": "stream",
          "text": [
            "<class 'pandas.core.frame.DataFrame'>\n",
            "RangeIndex: 1460 entries, 0 to 1459\n",
            "Data columns (total 81 columns):\n",
            " #   Column         Non-Null Count  Dtype  \n",
            "---  ------         --------------  -----  \n",
            " 0   Id             1460 non-null   int64  \n",
            " 1   MSSubClass     1460 non-null   int64  \n",
            " 2   MSZoning       1460 non-null   object \n",
            " 3   LotFrontage    1201 non-null   float64\n",
            " 4   LotArea        1460 non-null   int64  \n",
            " 5   Street         1460 non-null   object \n",
            " 6   Alley          91 non-null     object \n",
            " 7   LotShape       1460 non-null   object \n",
            " 8   LandContour    1460 non-null   object \n",
            " 9   Utilities      1460 non-null   object \n",
            " 10  LotConfig      1460 non-null   object \n",
            " 11  LandSlope      1460 non-null   object \n",
            " 12  Neighborhood   1460 non-null   object \n",
            " 13  Condition1     1460 non-null   object \n",
            " 14  Condition2     1460 non-null   object \n",
            " 15  BldgType       1460 non-null   object \n",
            " 16  HouseStyle     1460 non-null   object \n",
            " 17  OverallQual    1460 non-null   int64  \n",
            " 18  OverallCond    1460 non-null   int64  \n",
            " 19  YearBuilt      1460 non-null   int64  \n",
            " 20  YearRemodAdd   1460 non-null   int64  \n",
            " 21  RoofStyle      1460 non-null   object \n",
            " 22  RoofMatl       1460 non-null   object \n",
            " 23  Exterior1st    1460 non-null   object \n",
            " 24  Exterior2nd    1460 non-null   object \n",
            " 25  MasVnrType     1452 non-null   object \n",
            " 26  MasVnrArea     1452 non-null   float64\n",
            " 27  ExterQual      1460 non-null   object \n",
            " 28  ExterCond      1460 non-null   object \n",
            " 29  Foundation     1460 non-null   object \n",
            " 30  BsmtQual       1423 non-null   object \n",
            " 31  BsmtCond       1423 non-null   object \n",
            " 32  BsmtExposure   1422 non-null   object \n",
            " 33  BsmtFinType1   1423 non-null   object \n",
            " 34  BsmtFinSF1     1460 non-null   int64  \n",
            " 35  BsmtFinType2   1422 non-null   object \n",
            " 36  BsmtFinSF2     1460 non-null   int64  \n",
            " 37  BsmtUnfSF      1460 non-null   int64  \n",
            " 38  TotalBsmtSF    1460 non-null   int64  \n",
            " 39  Heating        1460 non-null   object \n",
            " 40  HeatingQC      1460 non-null   object \n",
            " 41  CentralAir     1460 non-null   object \n",
            " 42  Electrical     1459 non-null   object \n",
            " 43  1stFlrSF       1460 non-null   int64  \n",
            " 44  2ndFlrSF       1460 non-null   int64  \n",
            " 45  LowQualFinSF   1460 non-null   int64  \n",
            " 46  GrLivArea      1460 non-null   int64  \n",
            " 47  BsmtFullBath   1460 non-null   int64  \n",
            " 48  BsmtHalfBath   1460 non-null   int64  \n",
            " 49  FullBath       1460 non-null   int64  \n",
            " 50  HalfBath       1460 non-null   int64  \n",
            " 51  BedroomAbvGr   1460 non-null   int64  \n",
            " 52  KitchenAbvGr   1460 non-null   int64  \n",
            " 53  KitchenQual    1460 non-null   object \n",
            " 54  TotRmsAbvGrd   1460 non-null   int64  \n",
            " 55  Functional     1460 non-null   object \n",
            " 56  Fireplaces     1460 non-null   int64  \n",
            " 57  FireplaceQu    770 non-null    object \n",
            " 58  GarageType     1379 non-null   object \n",
            " 59  GarageYrBlt    1379 non-null   float64\n",
            " 60  GarageFinish   1379 non-null   object \n",
            " 61  GarageCars     1460 non-null   int64  \n",
            " 62  GarageArea     1460 non-null   int64  \n",
            " 63  GarageQual     1379 non-null   object \n",
            " 64  GarageCond     1379 non-null   object \n",
            " 65  PavedDrive     1460 non-null   object \n",
            " 66  WoodDeckSF     1460 non-null   int64  \n",
            " 67  OpenPorchSF    1460 non-null   int64  \n",
            " 68  EnclosedPorch  1460 non-null   int64  \n",
            " 69  3SsnPorch      1460 non-null   int64  \n",
            " 70  ScreenPorch    1460 non-null   int64  \n",
            " 71  PoolArea       1460 non-null   int64  \n",
            " 72  PoolQC         7 non-null      object \n",
            " 73  Fence          281 non-null    object \n",
            " 74  MiscFeature    54 non-null     object \n",
            " 75  MiscVal        1460 non-null   int64  \n",
            " 76  MoSold         1460 non-null   int64  \n",
            " 77  YrSold         1460 non-null   int64  \n",
            " 78  SaleType       1460 non-null   object \n",
            " 79  SaleCondition  1460 non-null   object \n",
            " 80  SalePrice      1460 non-null   int64  \n",
            "dtypes: float64(3), int64(35), object(43)\n",
            "memory usage: 924.0+ KB\n"
          ]
        }
      ],
      "source": [
        "df.info()"
      ]
    },
    {
      "cell_type": "code",
      "execution_count": 6,
      "metadata": {
        "id": "aXD1_Zr-SZwH"
      },
      "outputs": [],
      "source": [
        "# Dropping 'Id', since it's just an indexing variable\n",
        "\n",
        "df.drop(columns=['Id'], inplace=True)"
      ]
    },
    {
      "cell_type": "markdown",
      "metadata": {
        "id": "SkLOJ5UK9FKV"
      },
      "source": [
        "**LotFrontage, Alley, MasVnrType, MasVnrArea, BsmtQual, BsmtCond, BsmtExposure, BsmtFinType1, BsmtFinType2, Electrical, FireplaceQu, GarageType, GarageYrBlt, GarageFinish, GarageQual, GarageCond, PoolQC, Fence, MiscFeature** and **MiscFeature** have null values.\n",
        "\n",
        "For all of the features other than **LotFrontage**, **MasVnrType**, **MasVnrArea**, **GarageYrBlt** and **Electrical** NA is a valid value so we are ignoring them at this stage."
      ]
    },
    {
      "cell_type": "markdown",
      "metadata": {
        "id": "QfITT5-z-iwS"
      },
      "source": [
        "The number of missing values in features are as follows:\n",
        "1. LotFrontage --> 259\n",
        "2. GarageYrBlt --> 81\n",
        "3. MasVnrType --> 8\n",
        "4. MasVnrArea --> 8\n",
        "5. Electrical --> 1"
      ]
    },
    {
      "cell_type": "markdown",
      "metadata": {
        "id": "NFxtow6d_9w7"
      },
      "source": [
        "LotFrontage has a lot of missing (~18%). So, we cannot just drop all values. \n",
        "\n",
        "Since, LotFrontage gives the size of the Street connected to the property and all the entries have a value for the Street feature therefore, these values should not be na or 0\n",
        "\n",
        "Therefore imputing NA values in LotFrontage with median."
      ]
    },
    {
      "cell_type": "code",
      "execution_count": 7,
      "metadata": {
        "id": "6hKqlE3h__sb"
      },
      "outputs": [],
      "source": [
        "lotFrontageMedian = df.LotFrontage.median()\n",
        "df.LotFrontage = df.LotFrontage.fillna(lotFrontageMedian)"
      ]
    },
    {
      "cell_type": "markdown",
      "metadata": {
        "id": "NfjW6bzNJx0N"
      },
      "source": [
        "Dropping all entries where \n",
        "MasVnrType, MasVnrArea or Electrical is null. \n",
        "\n",
        "These values do not seem to have an appropriate imputation available and have small number of missing values"
      ]
    },
    {
      "cell_type": "code",
      "execution_count": 8,
      "metadata": {
        "id": "SpE2fC_J1a4O"
      },
      "outputs": [],
      "source": [
        "df.dropna(subset=['MasVnrType', 'MasVnrArea', 'Electrical'],inplace=True)"
      ]
    },
    {
      "cell_type": "markdown",
      "metadata": {
        "id": "nxQ1LTfDFSz0"
      },
      "source": [
        "**GarageYrBlt** values seem to be null whenever there is no garage.\n",
        "\n",
        "So, imputing the missing values with 0 to keep those entries in."
      ]
    },
    {
      "cell_type": "code",
      "execution_count": 9,
      "metadata": {
        "id": "RtEm2Wo5AZCy"
      },
      "outputs": [],
      "source": [
        "# Imputing 0 where GarageYrBlt is None\n",
        "\n",
        "df.GarageYrBlt = df.GarageYrBlt.fillna(0)"
      ]
    },
    {
      "cell_type": "code",
      "execution_count": 10,
      "metadata": {
        "colab": {
          "base_uri": "https://localhost:8080/",
          "height": 488
        },
        "id": "Qud15hrfOejB",
        "outputId": "83bb176f-b298-4aec-b415-f95af72ec1eb"
      },
      "outputs": [
        {
          "data": {
            "text/html": [
              "\n",
              "  <div id=\"df-c7362c54-9d14-4cab-aab4-7848d44d2e9a\">\n",
              "    <div class=\"colab-df-container\">\n",
              "      <div>\n",
              "<style scoped>\n",
              "    .dataframe tbody tr th:only-of-type {\n",
              "        vertical-align: middle;\n",
              "    }\n",
              "\n",
              "    .dataframe tbody tr th {\n",
              "        vertical-align: top;\n",
              "    }\n",
              "\n",
              "    .dataframe thead th {\n",
              "        text-align: right;\n",
              "    }\n",
              "</style>\n",
              "<table border=\"1\" class=\"dataframe\">\n",
              "  <thead>\n",
              "    <tr style=\"text-align: right;\">\n",
              "      <th></th>\n",
              "      <th>MSSubClass</th>\n",
              "      <th>MSZoning</th>\n",
              "      <th>LotFrontage</th>\n",
              "      <th>LotArea</th>\n",
              "      <th>Street</th>\n",
              "      <th>Alley</th>\n",
              "      <th>LotShape</th>\n",
              "      <th>LandContour</th>\n",
              "      <th>Utilities</th>\n",
              "      <th>LotConfig</th>\n",
              "      <th>...</th>\n",
              "      <th>PoolArea</th>\n",
              "      <th>PoolQC</th>\n",
              "      <th>Fence</th>\n",
              "      <th>MiscFeature</th>\n",
              "      <th>MiscVal</th>\n",
              "      <th>MoSold</th>\n",
              "      <th>YrSold</th>\n",
              "      <th>SaleType</th>\n",
              "      <th>SaleCondition</th>\n",
              "      <th>SalePrice</th>\n",
              "    </tr>\n",
              "  </thead>\n",
              "  <tbody>\n",
              "    <tr>\n",
              "      <th>0</th>\n",
              "      <td>60</td>\n",
              "      <td>RL</td>\n",
              "      <td>65.0</td>\n",
              "      <td>8450</td>\n",
              "      <td>Pave</td>\n",
              "      <td>NA</td>\n",
              "      <td>Reg</td>\n",
              "      <td>Lvl</td>\n",
              "      <td>AllPub</td>\n",
              "      <td>Inside</td>\n",
              "      <td>...</td>\n",
              "      <td>0</td>\n",
              "      <td>NA</td>\n",
              "      <td>NA</td>\n",
              "      <td>NA</td>\n",
              "      <td>0</td>\n",
              "      <td>2</td>\n",
              "      <td>2008</td>\n",
              "      <td>WD</td>\n",
              "      <td>Normal</td>\n",
              "      <td>208500</td>\n",
              "    </tr>\n",
              "    <tr>\n",
              "      <th>1</th>\n",
              "      <td>20</td>\n",
              "      <td>RL</td>\n",
              "      <td>80.0</td>\n",
              "      <td>9600</td>\n",
              "      <td>Pave</td>\n",
              "      <td>NA</td>\n",
              "      <td>Reg</td>\n",
              "      <td>Lvl</td>\n",
              "      <td>AllPub</td>\n",
              "      <td>FR2</td>\n",
              "      <td>...</td>\n",
              "      <td>0</td>\n",
              "      <td>NA</td>\n",
              "      <td>NA</td>\n",
              "      <td>NA</td>\n",
              "      <td>0</td>\n",
              "      <td>5</td>\n",
              "      <td>2007</td>\n",
              "      <td>WD</td>\n",
              "      <td>Normal</td>\n",
              "      <td>181500</td>\n",
              "    </tr>\n",
              "    <tr>\n",
              "      <th>2</th>\n",
              "      <td>60</td>\n",
              "      <td>RL</td>\n",
              "      <td>68.0</td>\n",
              "      <td>11250</td>\n",
              "      <td>Pave</td>\n",
              "      <td>NA</td>\n",
              "      <td>IR1</td>\n",
              "      <td>Lvl</td>\n",
              "      <td>AllPub</td>\n",
              "      <td>Inside</td>\n",
              "      <td>...</td>\n",
              "      <td>0</td>\n",
              "      <td>NA</td>\n",
              "      <td>NA</td>\n",
              "      <td>NA</td>\n",
              "      <td>0</td>\n",
              "      <td>9</td>\n",
              "      <td>2008</td>\n",
              "      <td>WD</td>\n",
              "      <td>Normal</td>\n",
              "      <td>223500</td>\n",
              "    </tr>\n",
              "    <tr>\n",
              "      <th>3</th>\n",
              "      <td>70</td>\n",
              "      <td>RL</td>\n",
              "      <td>60.0</td>\n",
              "      <td>9550</td>\n",
              "      <td>Pave</td>\n",
              "      <td>NA</td>\n",
              "      <td>IR1</td>\n",
              "      <td>Lvl</td>\n",
              "      <td>AllPub</td>\n",
              "      <td>Corner</td>\n",
              "      <td>...</td>\n",
              "      <td>0</td>\n",
              "      <td>NA</td>\n",
              "      <td>NA</td>\n",
              "      <td>NA</td>\n",
              "      <td>0</td>\n",
              "      <td>2</td>\n",
              "      <td>2006</td>\n",
              "      <td>WD</td>\n",
              "      <td>Abnorml</td>\n",
              "      <td>140000</td>\n",
              "    </tr>\n",
              "    <tr>\n",
              "      <th>4</th>\n",
              "      <td>60</td>\n",
              "      <td>RL</td>\n",
              "      <td>84.0</td>\n",
              "      <td>14260</td>\n",
              "      <td>Pave</td>\n",
              "      <td>NA</td>\n",
              "      <td>IR1</td>\n",
              "      <td>Lvl</td>\n",
              "      <td>AllPub</td>\n",
              "      <td>FR2</td>\n",
              "      <td>...</td>\n",
              "      <td>0</td>\n",
              "      <td>NA</td>\n",
              "      <td>NA</td>\n",
              "      <td>NA</td>\n",
              "      <td>0</td>\n",
              "      <td>12</td>\n",
              "      <td>2008</td>\n",
              "      <td>WD</td>\n",
              "      <td>Normal</td>\n",
              "      <td>250000</td>\n",
              "    </tr>\n",
              "    <tr>\n",
              "      <th>...</th>\n",
              "      <td>...</td>\n",
              "      <td>...</td>\n",
              "      <td>...</td>\n",
              "      <td>...</td>\n",
              "      <td>...</td>\n",
              "      <td>...</td>\n",
              "      <td>...</td>\n",
              "      <td>...</td>\n",
              "      <td>...</td>\n",
              "      <td>...</td>\n",
              "      <td>...</td>\n",
              "      <td>...</td>\n",
              "      <td>...</td>\n",
              "      <td>...</td>\n",
              "      <td>...</td>\n",
              "      <td>...</td>\n",
              "      <td>...</td>\n",
              "      <td>...</td>\n",
              "      <td>...</td>\n",
              "      <td>...</td>\n",
              "      <td>...</td>\n",
              "    </tr>\n",
              "    <tr>\n",
              "      <th>1455</th>\n",
              "      <td>60</td>\n",
              "      <td>RL</td>\n",
              "      <td>62.0</td>\n",
              "      <td>7917</td>\n",
              "      <td>Pave</td>\n",
              "      <td>NA</td>\n",
              "      <td>Reg</td>\n",
              "      <td>Lvl</td>\n",
              "      <td>AllPub</td>\n",
              "      <td>Inside</td>\n",
              "      <td>...</td>\n",
              "      <td>0</td>\n",
              "      <td>NA</td>\n",
              "      <td>NA</td>\n",
              "      <td>NA</td>\n",
              "      <td>0</td>\n",
              "      <td>8</td>\n",
              "      <td>2007</td>\n",
              "      <td>WD</td>\n",
              "      <td>Normal</td>\n",
              "      <td>175000</td>\n",
              "    </tr>\n",
              "    <tr>\n",
              "      <th>1456</th>\n",
              "      <td>20</td>\n",
              "      <td>RL</td>\n",
              "      <td>85.0</td>\n",
              "      <td>13175</td>\n",
              "      <td>Pave</td>\n",
              "      <td>NA</td>\n",
              "      <td>Reg</td>\n",
              "      <td>Lvl</td>\n",
              "      <td>AllPub</td>\n",
              "      <td>Inside</td>\n",
              "      <td>...</td>\n",
              "      <td>0</td>\n",
              "      <td>NA</td>\n",
              "      <td>MnPrv</td>\n",
              "      <td>NA</td>\n",
              "      <td>0</td>\n",
              "      <td>2</td>\n",
              "      <td>2010</td>\n",
              "      <td>WD</td>\n",
              "      <td>Normal</td>\n",
              "      <td>210000</td>\n",
              "    </tr>\n",
              "    <tr>\n",
              "      <th>1457</th>\n",
              "      <td>70</td>\n",
              "      <td>RL</td>\n",
              "      <td>66.0</td>\n",
              "      <td>9042</td>\n",
              "      <td>Pave</td>\n",
              "      <td>NA</td>\n",
              "      <td>Reg</td>\n",
              "      <td>Lvl</td>\n",
              "      <td>AllPub</td>\n",
              "      <td>Inside</td>\n",
              "      <td>...</td>\n",
              "      <td>0</td>\n",
              "      <td>NA</td>\n",
              "      <td>GdPrv</td>\n",
              "      <td>Shed</td>\n",
              "      <td>2500</td>\n",
              "      <td>5</td>\n",
              "      <td>2010</td>\n",
              "      <td>WD</td>\n",
              "      <td>Normal</td>\n",
              "      <td>266500</td>\n",
              "    </tr>\n",
              "    <tr>\n",
              "      <th>1458</th>\n",
              "      <td>20</td>\n",
              "      <td>RL</td>\n",
              "      <td>68.0</td>\n",
              "      <td>9717</td>\n",
              "      <td>Pave</td>\n",
              "      <td>NA</td>\n",
              "      <td>Reg</td>\n",
              "      <td>Lvl</td>\n",
              "      <td>AllPub</td>\n",
              "      <td>Inside</td>\n",
              "      <td>...</td>\n",
              "      <td>0</td>\n",
              "      <td>NA</td>\n",
              "      <td>NA</td>\n",
              "      <td>NA</td>\n",
              "      <td>0</td>\n",
              "      <td>4</td>\n",
              "      <td>2010</td>\n",
              "      <td>WD</td>\n",
              "      <td>Normal</td>\n",
              "      <td>142125</td>\n",
              "    </tr>\n",
              "    <tr>\n",
              "      <th>1459</th>\n",
              "      <td>20</td>\n",
              "      <td>RL</td>\n",
              "      <td>75.0</td>\n",
              "      <td>9937</td>\n",
              "      <td>Pave</td>\n",
              "      <td>NA</td>\n",
              "      <td>Reg</td>\n",
              "      <td>Lvl</td>\n",
              "      <td>AllPub</td>\n",
              "      <td>Inside</td>\n",
              "      <td>...</td>\n",
              "      <td>0</td>\n",
              "      <td>NA</td>\n",
              "      <td>NA</td>\n",
              "      <td>NA</td>\n",
              "      <td>0</td>\n",
              "      <td>6</td>\n",
              "      <td>2008</td>\n",
              "      <td>WD</td>\n",
              "      <td>Normal</td>\n",
              "      <td>147500</td>\n",
              "    </tr>\n",
              "  </tbody>\n",
              "</table>\n",
              "<p>1451 rows × 80 columns</p>\n",
              "</div>\n",
              "      <button class=\"colab-df-convert\" onclick=\"convertToInteractive('df-c7362c54-9d14-4cab-aab4-7848d44d2e9a')\"\n",
              "              title=\"Convert this dataframe to an interactive table.\"\n",
              "              style=\"display:none;\">\n",
              "        \n",
              "  <svg xmlns=\"http://www.w3.org/2000/svg\" height=\"24px\"viewBox=\"0 0 24 24\"\n",
              "       width=\"24px\">\n",
              "    <path d=\"M0 0h24v24H0V0z\" fill=\"none\"/>\n",
              "    <path d=\"M18.56 5.44l.94 2.06.94-2.06 2.06-.94-2.06-.94-.94-2.06-.94 2.06-2.06.94zm-11 1L8.5 8.5l.94-2.06 2.06-.94-2.06-.94L8.5 2.5l-.94 2.06-2.06.94zm10 10l.94 2.06.94-2.06 2.06-.94-2.06-.94-.94-2.06-.94 2.06-2.06.94z\"/><path d=\"M17.41 7.96l-1.37-1.37c-.4-.4-.92-.59-1.43-.59-.52 0-1.04.2-1.43.59L10.3 9.45l-7.72 7.72c-.78.78-.78 2.05 0 2.83L4 21.41c.39.39.9.59 1.41.59.51 0 1.02-.2 1.41-.59l7.78-7.78 2.81-2.81c.8-.78.8-2.07 0-2.86zM5.41 20L4 18.59l7.72-7.72 1.47 1.35L5.41 20z\"/>\n",
              "  </svg>\n",
              "      </button>\n",
              "      \n",
              "  <style>\n",
              "    .colab-df-container {\n",
              "      display:flex;\n",
              "      flex-wrap:wrap;\n",
              "      gap: 12px;\n",
              "    }\n",
              "\n",
              "    .colab-df-convert {\n",
              "      background-color: #E8F0FE;\n",
              "      border: none;\n",
              "      border-radius: 50%;\n",
              "      cursor: pointer;\n",
              "      display: none;\n",
              "      fill: #1967D2;\n",
              "      height: 32px;\n",
              "      padding: 0 0 0 0;\n",
              "      width: 32px;\n",
              "    }\n",
              "\n",
              "    .colab-df-convert:hover {\n",
              "      background-color: #E2EBFA;\n",
              "      box-shadow: 0px 1px 2px rgba(60, 64, 67, 0.3), 0px 1px 3px 1px rgba(60, 64, 67, 0.15);\n",
              "      fill: #174EA6;\n",
              "    }\n",
              "\n",
              "    [theme=dark] .colab-df-convert {\n",
              "      background-color: #3B4455;\n",
              "      fill: #D2E3FC;\n",
              "    }\n",
              "\n",
              "    [theme=dark] .colab-df-convert:hover {\n",
              "      background-color: #434B5C;\n",
              "      box-shadow: 0px 1px 3px 1px rgba(0, 0, 0, 0.15);\n",
              "      filter: drop-shadow(0px 1px 2px rgba(0, 0, 0, 0.3));\n",
              "      fill: #FFFFFF;\n",
              "    }\n",
              "  </style>\n",
              "\n",
              "      <script>\n",
              "        const buttonEl =\n",
              "          document.querySelector('#df-c7362c54-9d14-4cab-aab4-7848d44d2e9a button.colab-df-convert');\n",
              "        buttonEl.style.display =\n",
              "          google.colab.kernel.accessAllowed ? 'block' : 'none';\n",
              "\n",
              "        async function convertToInteractive(key) {\n",
              "          const element = document.querySelector('#df-c7362c54-9d14-4cab-aab4-7848d44d2e9a');\n",
              "          const dataTable =\n",
              "            await google.colab.kernel.invokeFunction('convertToInteractive',\n",
              "                                                     [key], {});\n",
              "          if (!dataTable) return;\n",
              "\n",
              "          const docLinkHtml = 'Like what you see? Visit the ' +\n",
              "            '<a target=\"_blank\" href=https://colab.research.google.com/notebooks/data_table.ipynb>data table notebook</a>'\n",
              "            + ' to learn more about interactive tables.';\n",
              "          element.innerHTML = '';\n",
              "          dataTable['output_type'] = 'display_data';\n",
              "          await google.colab.output.renderOutput(dataTable, element);\n",
              "          const docLink = document.createElement('div');\n",
              "          docLink.innerHTML = docLinkHtml;\n",
              "          element.appendChild(docLink);\n",
              "        }\n",
              "      </script>\n",
              "    </div>\n",
              "  </div>\n",
              "  "
            ],
            "text/plain": [
              "      MSSubClass MSZoning  LotFrontage  LotArea Street Alley LotShape  \\\n",
              "0             60       RL         65.0     8450   Pave    NA      Reg   \n",
              "1             20       RL         80.0     9600   Pave    NA      Reg   \n",
              "2             60       RL         68.0    11250   Pave    NA      IR1   \n",
              "3             70       RL         60.0     9550   Pave    NA      IR1   \n",
              "4             60       RL         84.0    14260   Pave    NA      IR1   \n",
              "...          ...      ...          ...      ...    ...   ...      ...   \n",
              "1455          60       RL         62.0     7917   Pave    NA      Reg   \n",
              "1456          20       RL         85.0    13175   Pave    NA      Reg   \n",
              "1457          70       RL         66.0     9042   Pave    NA      Reg   \n",
              "1458          20       RL         68.0     9717   Pave    NA      Reg   \n",
              "1459          20       RL         75.0     9937   Pave    NA      Reg   \n",
              "\n",
              "     LandContour Utilities LotConfig  ... PoolArea PoolQC  Fence MiscFeature  \\\n",
              "0            Lvl    AllPub    Inside  ...        0     NA     NA          NA   \n",
              "1            Lvl    AllPub       FR2  ...        0     NA     NA          NA   \n",
              "2            Lvl    AllPub    Inside  ...        0     NA     NA          NA   \n",
              "3            Lvl    AllPub    Corner  ...        0     NA     NA          NA   \n",
              "4            Lvl    AllPub       FR2  ...        0     NA     NA          NA   \n",
              "...          ...       ...       ...  ...      ...    ...    ...         ...   \n",
              "1455         Lvl    AllPub    Inside  ...        0     NA     NA          NA   \n",
              "1456         Lvl    AllPub    Inside  ...        0     NA  MnPrv          NA   \n",
              "1457         Lvl    AllPub    Inside  ...        0     NA  GdPrv        Shed   \n",
              "1458         Lvl    AllPub    Inside  ...        0     NA     NA          NA   \n",
              "1459         Lvl    AllPub    Inside  ...        0     NA     NA          NA   \n",
              "\n",
              "     MiscVal MoSold  YrSold  SaleType  SaleCondition  SalePrice  \n",
              "0          0      2    2008        WD         Normal     208500  \n",
              "1          0      5    2007        WD         Normal     181500  \n",
              "2          0      9    2008        WD         Normal     223500  \n",
              "3          0      2    2006        WD        Abnorml     140000  \n",
              "4          0     12    2008        WD         Normal     250000  \n",
              "...      ...    ...     ...       ...            ...        ...  \n",
              "1455       0      8    2007        WD         Normal     175000  \n",
              "1456       0      2    2010        WD         Normal     210000  \n",
              "1457    2500      5    2010        WD         Normal     266500  \n",
              "1458       0      4    2010        WD         Normal     142125  \n",
              "1459       0      6    2008        WD         Normal     147500  \n",
              "\n",
              "[1451 rows x 80 columns]"
            ]
          },
          "execution_count": 10,
          "metadata": {},
          "output_type": "execute_result"
        }
      ],
      "source": [
        "# Imputing all remaining na with string 'NA'\n",
        "\n",
        "df.fillna('NA')"
      ]
    },
    {
      "cell_type": "code",
      "execution_count": 11,
      "metadata": {
        "colab": {
          "base_uri": "https://localhost:8080/"
        },
        "id": "rWO1MAMpOoOp",
        "outputId": "8abcb660-ce62-4797-cf07-c3074c9decbb"
      },
      "outputs": [
        {
          "data": {
            "text/plain": [
              "Grvl    50\n",
              "Pave    40\n",
              "Name: Alley, dtype: int64"
            ]
          },
          "execution_count": 11,
          "metadata": {},
          "output_type": "execute_result"
        }
      ],
      "source": [
        "df.Alley.value_counts()"
      ]
    },
    {
      "cell_type": "code",
      "execution_count": 12,
      "metadata": {
        "colab": {
          "base_uri": "https://localhost:8080/"
        },
        "id": "HvY5x02rJS6Q",
        "outputId": "6f999939-eb55-4d11-f501-e6de631f210e"
      },
      "outputs": [
        {
          "data": {
            "text/plain": [
              "(1451, 80)"
            ]
          },
          "execution_count": 12,
          "metadata": {},
          "output_type": "execute_result"
        }
      ],
      "source": [
        "df.shape"
      ]
    },
    {
      "cell_type": "code",
      "execution_count": 13,
      "metadata": {
        "id": "KaDx_KxG4Aa-"
      },
      "outputs": [],
      "source": [
        "def correlationFilter(df: pd.DataFrame, bound: float):\n",
        "  df_corr = df.corr()\n",
        "  df_corr_filtered = df_corr[((df_corr >= bound) | (df_corr <= -bound)) & (df_corr !=1.000)]\n",
        "  df_flattened = df_corr_filtered.unstack().sort_values().drop_duplicates()\n",
        "  return df_flattened"
      ]
    },
    {
      "cell_type": "code",
      "execution_count": 14,
      "metadata": {
        "colab": {
          "base_uri": "https://localhost:8080/"
        },
        "id": "6CbFyKvE52oR",
        "outputId": "ce1095df-49d5-477b-a332-1c47809714db"
      },
      "outputs": [
        {
          "data": {
            "text/plain": [
              "BedroomAbvGr  TotRmsAbvGrd    0.675590\n",
              "2ndFlrSF      GrLivArea       0.690403\n",
              "GrLivArea     SalePrice       0.710073\n",
              "OverallQual   SalePrice       0.790085\n",
              "TotalBsmtSF   1stFlrSF        0.818107\n",
              "GrLivArea     TotRmsAbvGrd    0.825563\n",
              "GarageCars    GarageArea      0.882470\n",
              "MSSubClass    MSSubClass           NaN\n",
              "dtype: float64"
            ]
          },
          "execution_count": 14,
          "metadata": {},
          "output_type": "execute_result"
        }
      ],
      "source": [
        "correlationFilter(df, 0.65)"
      ]
    },
    {
      "cell_type": "markdown",
      "metadata": {
        "id": "NHzrZJvI6-r9"
      },
      "source": [
        "TotRmsAbvGrd (Total Rooms Above Ground) is very highly correlated with GrLivArea (Above ground living area) so dropping **TotRmsAbvGrd**\n",
        "\n",
        "\n",
        "GarageCars (Garage car capacity) is very highly correlated with GarageArea (Size of garage) so dropping **GarageCars**"
      ]
    },
    {
      "cell_type": "code",
      "execution_count": 15,
      "metadata": {
        "id": "Vb-qHves7sGh"
      },
      "outputs": [],
      "source": [
        "df.drop(['TotRmsAbvGrd', 'GarageCars'], axis=1, inplace=True)"
      ]
    },
    {
      "cell_type": "code",
      "execution_count": 16,
      "metadata": {
        "colab": {
          "base_uri": "https://localhost:8080/"
        },
        "id": "KzfvL5Ux8gyQ",
        "outputId": "a4a6058e-12e5-412c-9a71-8db86a78b097"
      },
      "outputs": [
        {
          "data": {
            "text/plain": [
              "(1451, 78)"
            ]
          },
          "execution_count": 16,
          "metadata": {},
          "output_type": "execute_result"
        }
      ],
      "source": [
        "df.shape"
      ]
    },
    {
      "cell_type": "markdown",
      "metadata": {
        "id": "fMiNsxG7K0la"
      },
      "source": [
        "# Analysis"
      ]
    },
    {
      "cell_type": "code",
      "execution_count": 17,
      "metadata": {
        "colab": {
          "base_uri": "https://localhost:8080/"
        },
        "id": "rPXbwUS0K2e6",
        "outputId": "23b1b759-b914-4833-c96e-4bfc22c408ef"
      },
      "outputs": [
        {
          "data": {
            "text/plain": [
              "YearRemodAdd    0.507488\n",
              "YearBuilt       0.523274\n",
              "FullBath        0.562710\n",
              "1stFlrSF        0.606969\n",
              "TotalBsmtSF     0.613299\n",
              "GarageArea      0.622484\n",
              "GrLivArea       0.710073\n",
              "OverallQual     0.790085\n",
              "Name: SalePrice, dtype: float64"
            ]
          },
          "execution_count": 17,
          "metadata": {},
          "output_type": "execute_result"
        }
      ],
      "source": [
        "# find out the numerical features which are the most correlated with SalePrice\n",
        "\n",
        "bound = 0.5\n",
        "SalePrice_Corr = df.corr()['SalePrice']\n",
        "SalePrice_Corr_High = SalePrice_Corr[((SalePrice_Corr >= bound) | (SalePrice_Corr <= -bound)) & (SalePrice_Corr !=1.000)]\n",
        "SalePrice_Corr_High.sort_values()"
      ]
    },
    {
      "cell_type": "code",
      "execution_count": 18,
      "metadata": {
        "colab": {
          "base_uri": "https://localhost:8080/",
          "height": 424
        },
        "id": "CfxpJgbILexa",
        "outputId": "ff987acd-3c7d-4265-9852-b78eaedec7dc"
      },
      "outputs": [
        {
          "data": {
            "text/html": [
              "\n",
              "  <div id=\"df-c24d209b-4a08-4f85-ab4c-828b997e6c83\">\n",
              "    <div class=\"colab-df-container\">\n",
              "      <div>\n",
              "<style scoped>\n",
              "    .dataframe tbody tr th:only-of-type {\n",
              "        vertical-align: middle;\n",
              "    }\n",
              "\n",
              "    .dataframe tbody tr th {\n",
              "        vertical-align: top;\n",
              "    }\n",
              "\n",
              "    .dataframe thead th {\n",
              "        text-align: right;\n",
              "    }\n",
              "</style>\n",
              "<table border=\"1\" class=\"dataframe\">\n",
              "  <thead>\n",
              "    <tr style=\"text-align: right;\">\n",
              "      <th></th>\n",
              "      <th>OverallQual</th>\n",
              "      <th>YearBuilt</th>\n",
              "      <th>YearRemodAdd</th>\n",
              "      <th>TotalBsmtSF</th>\n",
              "      <th>1stFlrSF</th>\n",
              "      <th>GrLivArea</th>\n",
              "      <th>FullBath</th>\n",
              "      <th>GarageArea</th>\n",
              "    </tr>\n",
              "  </thead>\n",
              "  <tbody>\n",
              "    <tr>\n",
              "      <th>0</th>\n",
              "      <td>7</td>\n",
              "      <td>2003</td>\n",
              "      <td>2003</td>\n",
              "      <td>856</td>\n",
              "      <td>856</td>\n",
              "      <td>1710</td>\n",
              "      <td>2</td>\n",
              "      <td>548</td>\n",
              "    </tr>\n",
              "    <tr>\n",
              "      <th>1</th>\n",
              "      <td>6</td>\n",
              "      <td>1976</td>\n",
              "      <td>1976</td>\n",
              "      <td>1262</td>\n",
              "      <td>1262</td>\n",
              "      <td>1262</td>\n",
              "      <td>2</td>\n",
              "      <td>460</td>\n",
              "    </tr>\n",
              "    <tr>\n",
              "      <th>2</th>\n",
              "      <td>7</td>\n",
              "      <td>2001</td>\n",
              "      <td>2002</td>\n",
              "      <td>920</td>\n",
              "      <td>920</td>\n",
              "      <td>1786</td>\n",
              "      <td>2</td>\n",
              "      <td>608</td>\n",
              "    </tr>\n",
              "    <tr>\n",
              "      <th>3</th>\n",
              "      <td>7</td>\n",
              "      <td>1915</td>\n",
              "      <td>1970</td>\n",
              "      <td>756</td>\n",
              "      <td>961</td>\n",
              "      <td>1717</td>\n",
              "      <td>1</td>\n",
              "      <td>642</td>\n",
              "    </tr>\n",
              "    <tr>\n",
              "      <th>4</th>\n",
              "      <td>8</td>\n",
              "      <td>2000</td>\n",
              "      <td>2000</td>\n",
              "      <td>1145</td>\n",
              "      <td>1145</td>\n",
              "      <td>2198</td>\n",
              "      <td>2</td>\n",
              "      <td>836</td>\n",
              "    </tr>\n",
              "    <tr>\n",
              "      <th>...</th>\n",
              "      <td>...</td>\n",
              "      <td>...</td>\n",
              "      <td>...</td>\n",
              "      <td>...</td>\n",
              "      <td>...</td>\n",
              "      <td>...</td>\n",
              "      <td>...</td>\n",
              "      <td>...</td>\n",
              "    </tr>\n",
              "    <tr>\n",
              "      <th>1455</th>\n",
              "      <td>6</td>\n",
              "      <td>1999</td>\n",
              "      <td>2000</td>\n",
              "      <td>953</td>\n",
              "      <td>953</td>\n",
              "      <td>1647</td>\n",
              "      <td>2</td>\n",
              "      <td>460</td>\n",
              "    </tr>\n",
              "    <tr>\n",
              "      <th>1456</th>\n",
              "      <td>6</td>\n",
              "      <td>1978</td>\n",
              "      <td>1988</td>\n",
              "      <td>1542</td>\n",
              "      <td>2073</td>\n",
              "      <td>2073</td>\n",
              "      <td>2</td>\n",
              "      <td>500</td>\n",
              "    </tr>\n",
              "    <tr>\n",
              "      <th>1457</th>\n",
              "      <td>7</td>\n",
              "      <td>1941</td>\n",
              "      <td>2006</td>\n",
              "      <td>1152</td>\n",
              "      <td>1188</td>\n",
              "      <td>2340</td>\n",
              "      <td>2</td>\n",
              "      <td>252</td>\n",
              "    </tr>\n",
              "    <tr>\n",
              "      <th>1458</th>\n",
              "      <td>5</td>\n",
              "      <td>1950</td>\n",
              "      <td>1996</td>\n",
              "      <td>1078</td>\n",
              "      <td>1078</td>\n",
              "      <td>1078</td>\n",
              "      <td>1</td>\n",
              "      <td>240</td>\n",
              "    </tr>\n",
              "    <tr>\n",
              "      <th>1459</th>\n",
              "      <td>5</td>\n",
              "      <td>1965</td>\n",
              "      <td>1965</td>\n",
              "      <td>1256</td>\n",
              "      <td>1256</td>\n",
              "      <td>1256</td>\n",
              "      <td>1</td>\n",
              "      <td>276</td>\n",
              "    </tr>\n",
              "  </tbody>\n",
              "</table>\n",
              "<p>1451 rows × 8 columns</p>\n",
              "</div>\n",
              "      <button class=\"colab-df-convert\" onclick=\"convertToInteractive('df-c24d209b-4a08-4f85-ab4c-828b997e6c83')\"\n",
              "              title=\"Convert this dataframe to an interactive table.\"\n",
              "              style=\"display:none;\">\n",
              "        \n",
              "  <svg xmlns=\"http://www.w3.org/2000/svg\" height=\"24px\"viewBox=\"0 0 24 24\"\n",
              "       width=\"24px\">\n",
              "    <path d=\"M0 0h24v24H0V0z\" fill=\"none\"/>\n",
              "    <path d=\"M18.56 5.44l.94 2.06.94-2.06 2.06-.94-2.06-.94-.94-2.06-.94 2.06-2.06.94zm-11 1L8.5 8.5l.94-2.06 2.06-.94-2.06-.94L8.5 2.5l-.94 2.06-2.06.94zm10 10l.94 2.06.94-2.06 2.06-.94-2.06-.94-.94-2.06-.94 2.06-2.06.94z\"/><path d=\"M17.41 7.96l-1.37-1.37c-.4-.4-.92-.59-1.43-.59-.52 0-1.04.2-1.43.59L10.3 9.45l-7.72 7.72c-.78.78-.78 2.05 0 2.83L4 21.41c.39.39.9.59 1.41.59.51 0 1.02-.2 1.41-.59l7.78-7.78 2.81-2.81c.8-.78.8-2.07 0-2.86zM5.41 20L4 18.59l7.72-7.72 1.47 1.35L5.41 20z\"/>\n",
              "  </svg>\n",
              "      </button>\n",
              "      \n",
              "  <style>\n",
              "    .colab-df-container {\n",
              "      display:flex;\n",
              "      flex-wrap:wrap;\n",
              "      gap: 12px;\n",
              "    }\n",
              "\n",
              "    .colab-df-convert {\n",
              "      background-color: #E8F0FE;\n",
              "      border: none;\n",
              "      border-radius: 50%;\n",
              "      cursor: pointer;\n",
              "      display: none;\n",
              "      fill: #1967D2;\n",
              "      height: 32px;\n",
              "      padding: 0 0 0 0;\n",
              "      width: 32px;\n",
              "    }\n",
              "\n",
              "    .colab-df-convert:hover {\n",
              "      background-color: #E2EBFA;\n",
              "      box-shadow: 0px 1px 2px rgba(60, 64, 67, 0.3), 0px 1px 3px 1px rgba(60, 64, 67, 0.15);\n",
              "      fill: #174EA6;\n",
              "    }\n",
              "\n",
              "    [theme=dark] .colab-df-convert {\n",
              "      background-color: #3B4455;\n",
              "      fill: #D2E3FC;\n",
              "    }\n",
              "\n",
              "    [theme=dark] .colab-df-convert:hover {\n",
              "      background-color: #434B5C;\n",
              "      box-shadow: 0px 1px 3px 1px rgba(0, 0, 0, 0.15);\n",
              "      filter: drop-shadow(0px 1px 2px rgba(0, 0, 0, 0.3));\n",
              "      fill: #FFFFFF;\n",
              "    }\n",
              "  </style>\n",
              "\n",
              "      <script>\n",
              "        const buttonEl =\n",
              "          document.querySelector('#df-c24d209b-4a08-4f85-ab4c-828b997e6c83 button.colab-df-convert');\n",
              "        buttonEl.style.display =\n",
              "          google.colab.kernel.accessAllowed ? 'block' : 'none';\n",
              "\n",
              "        async function convertToInteractive(key) {\n",
              "          const element = document.querySelector('#df-c24d209b-4a08-4f85-ab4c-828b997e6c83');\n",
              "          const dataTable =\n",
              "            await google.colab.kernel.invokeFunction('convertToInteractive',\n",
              "                                                     [key], {});\n",
              "          if (!dataTable) return;\n",
              "\n",
              "          const docLinkHtml = 'Like what you see? Visit the ' +\n",
              "            '<a target=\"_blank\" href=https://colab.research.google.com/notebooks/data_table.ipynb>data table notebook</a>'\n",
              "            + ' to learn more about interactive tables.';\n",
              "          element.innerHTML = '';\n",
              "          dataTable['output_type'] = 'display_data';\n",
              "          await google.colab.output.renderOutput(dataTable, element);\n",
              "          const docLink = document.createElement('div');\n",
              "          docLink.innerHTML = docLinkHtml;\n",
              "          element.appendChild(docLink);\n",
              "        }\n",
              "      </script>\n",
              "    </div>\n",
              "  </div>\n",
              "  "
            ],
            "text/plain": [
              "      OverallQual  YearBuilt  YearRemodAdd  TotalBsmtSF  1stFlrSF  GrLivArea  \\\n",
              "0               7       2003          2003          856       856       1710   \n",
              "1               6       1976          1976         1262      1262       1262   \n",
              "2               7       2001          2002          920       920       1786   \n",
              "3               7       1915          1970          756       961       1717   \n",
              "4               8       2000          2000         1145      1145       2198   \n",
              "...           ...        ...           ...          ...       ...        ...   \n",
              "1455            6       1999          2000          953       953       1647   \n",
              "1456            6       1978          1988         1542      2073       2073   \n",
              "1457            7       1941          2006         1152      1188       2340   \n",
              "1458            5       1950          1996         1078      1078       1078   \n",
              "1459            5       1965          1965         1256      1256       1256   \n",
              "\n",
              "      FullBath  GarageArea  \n",
              "0            2         548  \n",
              "1            2         460  \n",
              "2            2         608  \n",
              "3            1         642  \n",
              "4            2         836  \n",
              "...        ...         ...  \n",
              "1455         2         460  \n",
              "1456         2         500  \n",
              "1457         2         252  \n",
              "1458         1         240  \n",
              "1459         1         276  \n",
              "\n",
              "[1451 rows x 8 columns]"
            ]
          },
          "execution_count": 18,
          "metadata": {},
          "output_type": "execute_result"
        }
      ],
      "source": [
        "df_high_corr = df[SalePrice_Corr_High.keys()]\n",
        "df_high_corr"
      ]
    },
    {
      "cell_type": "markdown",
      "metadata": {
        "id": "vtM_Q4YcN46Z"
      },
      "source": [
        "Looking at some plots between SalePrice and numerical features which are highly correlated with it"
      ]
    },
    {
      "cell_type": "code",
      "execution_count": 19,
      "metadata": {
        "colab": {
          "base_uri": "https://localhost:8080/",
          "height": 1000
        },
        "id": "ZF_plkN_MZP7",
        "outputId": "3167eaef-9013-42ae-c38f-2bcbb5e74a7c"
      },
      "outputs": [
        {
          "data": {
            "image/png": "[encoded data removed]",
            "text/plain": [
              "<Figure size 432x288 with 1 Axes>"
            ]
          },
          "metadata": {
            "needs_background": "light"
          },
          "output_type": "display_data"
        },
        {
          "data": {
            "image/png": "[encoded data removed]",
            "text/plain": [
              "<Figure size 432x288 with 1 Axes>"
            ]
          },
          "metadata": {
            "needs_background": "light"
          },
          "output_type": "display_data"
        },
        {
          "data": {
            "image/png": "[encoded data removed]",
            "text/plain": [
              "<Figure size 432x288 with 1 Axes>"
            ]
          },
          "metadata": {
            "needs_background": "light"
          },
          "output_type": "display_data"
        },
        {
          "data": {
            "image/png": "[encoded data removed]",
            "text/plain": [
              "<Figure size 432x288 with 1 Axes>"
            ]
          },
          "metadata": {
            "needs_background": "light"
          },
          "output_type": "display_data"
        },
        {
          "data": {
            "image/png": "[encoded data removed]",
            "text/plain": [
              "<Figure size 432x288 with 1 Axes>"
            ]
          },
          "metadata": {
            "needs_background": "light"
          },
          "output_type": "display_data"
        },
        {
          "data": {
            "image/png": "[encoded data removed]",
            "text/plain": [
              "<Figure size 432x288 with 1 Axes>"
            ]
          },
          "metadata": {
            "needs_background": "light"
          },
          "output_type": "display_data"
        },
        {
          "data": {
            "image/png": "[encoded data removed]",
            "text/plain": [
              "<Figure size 432x288 with 1 Axes>"
            ]
          },
          "metadata": {
            "needs_background": "light"
          },
          "output_type": "display_data"
        },
        {
          "data": {
            "image/png": "[encoded data removed]",
            "text/plain": [
              "<Figure size 432x288 with 1 Axes>"
            ]
          },
          "metadata": {
            "needs_background": "light"
          },
          "output_type": "display_data"
        }
      ],
      "source": [
        "for col in df_high_corr.columns:\n",
        "  sns.scatterplot(x=df[col], y=df['SalePrice'])\n",
        "  plt.show()"
      ]
    },
    {
      "cell_type": "markdown",
      "metadata": {
        "id": "aeC1_S-mNipK"
      },
      "source": []
    },
    {
      "cell_type": "markdown",
      "metadata": {
        "id": "2c18XiZgHoMu"
      },
      "source": [
        "# Create dummy variables for categorical data"
      ]
    },
    {
      "cell_type": "code",
      "execution_count": 20,
      "metadata": {
        "colab": {
          "base_uri": "https://localhost:8080/",
          "height": 0
        },
        "id": "qAvnB2rVT_0R",
        "outputId": "e6a18549-7578-423a-f1a3-ca4b8b0647bf"
      },
      "outputs": [
        {
          "data": {
            "text/html": [
              "\n",
              "  <div id=\"df-ba7eecfd-4449-4ff0-8b17-fa7dab9a3191\">\n",
              "    <div class=\"colab-df-container\">\n",
              "      <div>\n",
              "<style scoped>\n",
              "    .dataframe tbody tr th:only-of-type {\n",
              "        vertical-align: middle;\n",
              "    }\n",
              "\n",
              "    .dataframe tbody tr th {\n",
              "        vertical-align: top;\n",
              "    }\n",
              "\n",
              "    .dataframe thead th {\n",
              "        text-align: right;\n",
              "    }\n",
              "</style>\n",
              "<table border=\"1\" class=\"dataframe\">\n",
              "  <thead>\n",
              "    <tr style=\"text-align: right;\">\n",
              "      <th></th>\n",
              "      <th>0</th>\n",
              "      <th>1</th>\n",
              "      <th>2</th>\n",
              "      <th>3</th>\n",
              "      <th>4</th>\n",
              "    </tr>\n",
              "  </thead>\n",
              "  <tbody>\n",
              "    <tr>\n",
              "      <th>MSSubClass</th>\n",
              "      <td>60.0</td>\n",
              "      <td>20.0</td>\n",
              "      <td>60.0</td>\n",
              "      <td>70.0</td>\n",
              "      <td>60.0</td>\n",
              "    </tr>\n",
              "    <tr>\n",
              "      <th>LotFrontage</th>\n",
              "      <td>65.0</td>\n",
              "      <td>80.0</td>\n",
              "      <td>68.0</td>\n",
              "      <td>60.0</td>\n",
              "      <td>84.0</td>\n",
              "    </tr>\n",
              "    <tr>\n",
              "      <th>LotArea</th>\n",
              "      <td>8450.0</td>\n",
              "      <td>9600.0</td>\n",
              "      <td>11250.0</td>\n",
              "      <td>9550.0</td>\n",
              "      <td>14260.0</td>\n",
              "    </tr>\n",
              "    <tr>\n",
              "      <th>OverallQual</th>\n",
              "      <td>7.0</td>\n",
              "      <td>6.0</td>\n",
              "      <td>7.0</td>\n",
              "      <td>7.0</td>\n",
              "      <td>8.0</td>\n",
              "    </tr>\n",
              "    <tr>\n",
              "      <th>OverallCond</th>\n",
              "      <td>5.0</td>\n",
              "      <td>8.0</td>\n",
              "      <td>5.0</td>\n",
              "      <td>5.0</td>\n",
              "      <td>5.0</td>\n",
              "    </tr>\n",
              "    <tr>\n",
              "      <th>...</th>\n",
              "      <td>...</td>\n",
              "      <td>...</td>\n",
              "      <td>...</td>\n",
              "      <td>...</td>\n",
              "      <td>...</td>\n",
              "    </tr>\n",
              "    <tr>\n",
              "      <th>SaleCondition_Alloca</th>\n",
              "      <td>0.0</td>\n",
              "      <td>0.0</td>\n",
              "      <td>0.0</td>\n",
              "      <td>0.0</td>\n",
              "      <td>0.0</td>\n",
              "    </tr>\n",
              "    <tr>\n",
              "      <th>SaleCondition_Family</th>\n",
              "      <td>0.0</td>\n",
              "      <td>0.0</td>\n",
              "      <td>0.0</td>\n",
              "      <td>0.0</td>\n",
              "      <td>0.0</td>\n",
              "    </tr>\n",
              "    <tr>\n",
              "      <th>SaleCondition_Normal</th>\n",
              "      <td>1.0</td>\n",
              "      <td>1.0</td>\n",
              "      <td>1.0</td>\n",
              "      <td>0.0</td>\n",
              "      <td>1.0</td>\n",
              "    </tr>\n",
              "    <tr>\n",
              "      <th>SaleCondition_Partial</th>\n",
              "      <td>0.0</td>\n",
              "      <td>0.0</td>\n",
              "      <td>0.0</td>\n",
              "      <td>0.0</td>\n",
              "      <td>0.0</td>\n",
              "    </tr>\n",
              "    <tr>\n",
              "      <th>SaleCondition_nan</th>\n",
              "      <td>0.0</td>\n",
              "      <td>0.0</td>\n",
              "      <td>0.0</td>\n",
              "      <td>0.0</td>\n",
              "      <td>0.0</td>\n",
              "    </tr>\n",
              "  </tbody>\n",
              "</table>\n",
              "<p>287 rows × 5 columns</p>\n",
              "</div>\n",
              "      <button class=\"colab-df-convert\" onclick=\"convertToInteractive('df-ba7eecfd-4449-4ff0-8b17-fa7dab9a3191')\"\n",
              "              title=\"Convert this dataframe to an interactive table.\"\n",
              "              style=\"display:none;\">\n",
              "        \n",
              "  <svg xmlns=\"http://www.w3.org/2000/svg\" height=\"24px\"viewBox=\"0 0 24 24\"\n",
              "       width=\"24px\">\n",
              "    <path d=\"M0 0h24v24H0V0z\" fill=\"none\"/>\n",
              "    <path d=\"M18.56 5.44l.94 2.06.94-2.06 2.06-.94-2.06-.94-.94-2.06-.94 2.06-2.06.94zm-11 1L8.5 8.5l.94-2.06 2.06-.94-2.06-.94L8.5 2.5l-.94 2.06-2.06.94zm10 10l.94 2.06.94-2.06 2.06-.94-2.06-.94-.94-2.06-.94 2.06-2.06.94z\"/><path d=\"M17.41 7.96l-1.37-1.37c-.4-.4-.92-.59-1.43-.59-.52 0-1.04.2-1.43.59L10.3 9.45l-7.72 7.72c-.78.78-.78 2.05 0 2.83L4 21.41c.39.39.9.59 1.41.59.51 0 1.02-.2 1.41-.59l7.78-7.78 2.81-2.81c.8-.78.8-2.07 0-2.86zM5.41 20L4 18.59l7.72-7.72 1.47 1.35L5.41 20z\"/>\n",
              "  </svg>\n",
              "      </button>\n",
              "      \n",
              "  <style>\n",
              "    .colab-df-container {\n",
              "      display:flex;\n",
              "      flex-wrap:wrap;\n",
              "      gap: 12px;\n",
              "    }\n",
              "\n",
              "    .colab-df-convert {\n",
              "      background-color: #E8F0FE;\n",
              "      border: none;\n",
              "      border-radius: 50%;\n",
              "      cursor: pointer;\n",
              "      display: none;\n",
              "      fill: #1967D2;\n",
              "      height: 32px;\n",
              "      padding: 0 0 0 0;\n",
              "      width: 32px;\n",
              "    }\n",
              "\n",
              "    .colab-df-convert:hover {\n",
              "      background-color: #E2EBFA;\n",
              "      box-shadow: 0px 1px 2px rgba(60, 64, 67, 0.3), 0px 1px 3px 1px rgba(60, 64, 67, 0.15);\n",
              "      fill: #174EA6;\n",
              "    }\n",
              "\n",
              "    [theme=dark] .colab-df-convert {\n",
              "      background-color: #3B4455;\n",
              "      fill: #D2E3FC;\n",
              "    }\n",
              "\n",
              "    [theme=dark] .colab-df-convert:hover {\n",
              "      background-color: #434B5C;\n",
              "      box-shadow: 0px 1px 3px 1px rgba(0, 0, 0, 0.15);\n",
              "      filter: drop-shadow(0px 1px 2px rgba(0, 0, 0, 0.3));\n",
              "      fill: #FFFFFF;\n",
              "    }\n",
              "  </style>\n",
              "\n",
              "      <script>\n",
              "        const buttonEl =\n",
              "          document.querySelector('#df-ba7eecfd-4449-4ff0-8b17-fa7dab9a3191 button.colab-df-convert');\n",
              "        buttonEl.style.display =\n",
              "          google.colab.kernel.accessAllowed ? 'block' : 'none';\n",
              "\n",
              "        async function convertToInteractive(key) {\n",
              "          const element = document.querySelector('#df-ba7eecfd-4449-4ff0-8b17-fa7dab9a3191');\n",
              "          const dataTable =\n",
              "            await google.colab.kernel.invokeFunction('convertToInteractive',\n",
              "                                                     [key], {});\n",
              "          if (!dataTable) return;\n",
              "\n",
              "          const docLinkHtml = 'Like what you see? Visit the ' +\n",
              "            '<a target=\"_blank\" href=https://colab.research.google.com/notebooks/data_table.ipynb>data table notebook</a>'\n",
              "            + ' to learn more about interactive tables.';\n",
              "          element.innerHTML = '';\n",
              "          dataTable['output_type'] = 'display_data';\n",
              "          await google.colab.output.renderOutput(dataTable, element);\n",
              "          const docLink = document.createElement('div');\n",
              "          docLink.innerHTML = docLinkHtml;\n",
              "          element.appendChild(docLink);\n",
              "        }\n",
              "      </script>\n",
              "    </div>\n",
              "  </div>\n",
              "  "
            ],
            "text/plain": [
              "                            0       1        2       3        4\n",
              "MSSubClass               60.0    20.0     60.0    70.0     60.0\n",
              "LotFrontage              65.0    80.0     68.0    60.0     84.0\n",
              "LotArea                8450.0  9600.0  11250.0  9550.0  14260.0\n",
              "OverallQual               7.0     6.0      7.0     7.0      8.0\n",
              "OverallCond               5.0     8.0      5.0     5.0      5.0\n",
              "...                       ...     ...      ...     ...      ...\n",
              "SaleCondition_Alloca      0.0     0.0      0.0     0.0      0.0\n",
              "SaleCondition_Family      0.0     0.0      0.0     0.0      0.0\n",
              "SaleCondition_Normal      1.0     1.0      1.0     0.0      1.0\n",
              "SaleCondition_Partial     0.0     0.0      0.0     0.0      0.0\n",
              "SaleCondition_nan         0.0     0.0      0.0     0.0      0.0\n",
              "\n",
              "[287 rows x 5 columns]"
            ]
          },
          "execution_count": 20,
          "metadata": {},
          "output_type": "execute_result"
        }
      ],
      "source": [
        "# Create dummy variables to replace categorical values\n",
        "df = pd.get_dummies(df, dummy_na=True, drop_first=True)\n",
        "df.head().T"
      ]
    },
    {
      "cell_type": "markdown",
      "metadata": {
        "id": "QswqSSzF-3e7"
      },
      "source": [
        "# Splitting the Data into Train, Validation and Test Sets"
      ]
    },
    {
      "cell_type": "code",
      "execution_count": 21,
      "metadata": {
        "id": "WdjhVZNs-5bm"
      },
      "outputs": [],
      "source": [
        "train_set, test_set = train_test_split(df, test_size=0.2, random_state=100)"
      ]
    },
    {
      "cell_type": "code",
      "execution_count": 22,
      "metadata": {
        "colab": {
          "base_uri": "https://localhost:8080/"
        },
        "id": "CiWCcvVl-5Q0",
        "outputId": "636babaa-2198-481f-9b34-f9c479e2e95d"
      },
      "outputs": [
        {
          "data": {
            "text/plain": [
              "((1160, 287), (291, 287))"
            ]
          },
          "execution_count": 22,
          "metadata": {},
          "output_type": "execute_result"
        }
      ],
      "source": [
        "train_set.shape, test_set.shape"
      ]
    },
    {
      "cell_type": "markdown",
      "metadata": {
        "id": "f_PAYbIoFwlo"
      },
      "source": [
        "# Rescaling the Features\n",
        "We will use MinMax scaling."
      ]
    },
    {
      "cell_type": "markdown",
      "metadata": {
        "id": "wCyMdzsbg_yH"
      },
      "source": [
        "## Applying the scaling on the train set"
      ]
    },
    {
      "cell_type": "code",
      "execution_count": 23,
      "metadata": {
        "colab": {
          "base_uri": "https://localhost:8080/",
          "height": 0
        },
        "id": "yYr_kphmF255",
        "outputId": "d3a1d48f-2d6a-4673-cd70-4d988fbd140b"
      },
      "outputs": [
        {
          "data": {
            "text/html": [
              "\n",
              "  <div id=\"df-870b613e-4d9b-4c11-99a8-c84582ada292\">\n",
              "    <div class=\"colab-df-container\">\n",
              "      <div>\n",
              "<style scoped>\n",
              "    .dataframe tbody tr th:only-of-type {\n",
              "        vertical-align: middle;\n",
              "    }\n",
              "\n",
              "    .dataframe tbody tr th {\n",
              "        vertical-align: top;\n",
              "    }\n",
              "\n",
              "    .dataframe thead th {\n",
              "        text-align: right;\n",
              "    }\n",
              "</style>\n",
              "<table border=\"1\" class=\"dataframe\">\n",
              "  <thead>\n",
              "    <tr style=\"text-align: right;\">\n",
              "      <th></th>\n",
              "      <th>MSSubClass</th>\n",
              "      <th>LotFrontage</th>\n",
              "      <th>LotArea</th>\n",
              "      <th>OverallQual</th>\n",
              "      <th>OverallCond</th>\n",
              "      <th>YearBuilt</th>\n",
              "      <th>YearRemodAdd</th>\n",
              "      <th>MasVnrArea</th>\n",
              "      <th>BsmtFinSF1</th>\n",
              "      <th>BsmtFinSF2</th>\n",
              "      <th>...</th>\n",
              "      <th>SaleType_New</th>\n",
              "      <th>SaleType_Oth</th>\n",
              "      <th>SaleType_WD</th>\n",
              "      <th>SaleType_nan</th>\n",
              "      <th>SaleCondition_AdjLand</th>\n",
              "      <th>SaleCondition_Alloca</th>\n",
              "      <th>SaleCondition_Family</th>\n",
              "      <th>SaleCondition_Normal</th>\n",
              "      <th>SaleCondition_Partial</th>\n",
              "      <th>SaleCondition_nan</th>\n",
              "    </tr>\n",
              "  </thead>\n",
              "  <tbody>\n",
              "    <tr>\n",
              "      <th>count</th>\n",
              "      <td>1160.000000</td>\n",
              "      <td>1160.000000</td>\n",
              "      <td>1160.000000</td>\n",
              "      <td>1160.000000</td>\n",
              "      <td>1160.000000</td>\n",
              "      <td>1160.000000</td>\n",
              "      <td>1160.000000</td>\n",
              "      <td>1160.000000</td>\n",
              "      <td>1160.000000</td>\n",
              "      <td>1160.000000</td>\n",
              "      <td>...</td>\n",
              "      <td>1160.000000</td>\n",
              "      <td>1160.000000</td>\n",
              "      <td>1160.000000</td>\n",
              "      <td>1160.0</td>\n",
              "      <td>1160.000000</td>\n",
              "      <td>1160.000000</td>\n",
              "      <td>1160.000000</td>\n",
              "      <td>1160.000000</td>\n",
              "      <td>1160.000000</td>\n",
              "      <td>1160.0</td>\n",
              "    </tr>\n",
              "    <tr>\n",
              "      <th>mean</th>\n",
              "      <td>0.220183</td>\n",
              "      <td>0.167357</td>\n",
              "      <td>0.043276</td>\n",
              "      <td>0.514978</td>\n",
              "      <td>0.512069</td>\n",
              "      <td>0.720265</td>\n",
              "      <td>0.583405</td>\n",
              "      <td>0.065932</td>\n",
              "      <td>0.078090</td>\n",
              "      <td>0.041857</td>\n",
              "      <td>...</td>\n",
              "      <td>0.078448</td>\n",
              "      <td>0.002586</td>\n",
              "      <td>0.870690</td>\n",
              "      <td>0.0</td>\n",
              "      <td>0.003448</td>\n",
              "      <td>0.007759</td>\n",
              "      <td>0.010345</td>\n",
              "      <td>0.826724</td>\n",
              "      <td>0.080172</td>\n",
              "      <td>0.0</td>\n",
              "    </tr>\n",
              "    <tr>\n",
              "      <th>std</th>\n",
              "      <td>0.249438</td>\n",
              "      <td>0.076993</td>\n",
              "      <td>0.049920</td>\n",
              "      <td>0.171526</td>\n",
              "      <td>0.156206</td>\n",
              "      <td>0.218107</td>\n",
              "      <td>0.339989</td>\n",
              "      <td>0.116217</td>\n",
              "      <td>0.081836</td>\n",
              "      <td>0.144454</td>\n",
              "      <td>...</td>\n",
              "      <td>0.268992</td>\n",
              "      <td>0.050811</td>\n",
              "      <td>0.335688</td>\n",
              "      <td>0.0</td>\n",
              "      <td>0.058646</td>\n",
              "      <td>0.087779</td>\n",
              "      <td>0.101226</td>\n",
              "      <td>0.378649</td>\n",
              "      <td>0.271677</td>\n",
              "      <td>0.0</td>\n",
              "    </tr>\n",
              "    <tr>\n",
              "      <th>min</th>\n",
              "      <td>0.000000</td>\n",
              "      <td>0.000000</td>\n",
              "      <td>0.000000</td>\n",
              "      <td>0.000000</td>\n",
              "      <td>0.000000</td>\n",
              "      <td>0.000000</td>\n",
              "      <td>0.000000</td>\n",
              "      <td>0.000000</td>\n",
              "      <td>0.000000</td>\n",
              "      <td>0.000000</td>\n",
              "      <td>...</td>\n",
              "      <td>0.000000</td>\n",
              "      <td>0.000000</td>\n",
              "      <td>0.000000</td>\n",
              "      <td>0.0</td>\n",
              "      <td>0.000000</td>\n",
              "      <td>0.000000</td>\n",
              "      <td>0.000000</td>\n",
              "      <td>0.000000</td>\n",
              "      <td>0.000000</td>\n",
              "      <td>0.0</td>\n",
              "    </tr>\n",
              "    <tr>\n",
              "      <th>25%</th>\n",
              "      <td>0.000000</td>\n",
              "      <td>0.133562</td>\n",
              "      <td>0.028979</td>\n",
              "      <td>0.375000</td>\n",
              "      <td>0.428571</td>\n",
              "      <td>0.594203</td>\n",
              "      <td>0.283333</td>\n",
              "      <td>0.000000</td>\n",
              "      <td>0.000000</td>\n",
              "      <td>0.000000</td>\n",
              "      <td>...</td>\n",
              "      <td>0.000000</td>\n",
              "      <td>0.000000</td>\n",
              "      <td>1.000000</td>\n",
              "      <td>0.0</td>\n",
              "      <td>0.000000</td>\n",
              "      <td>0.000000</td>\n",
              "      <td>0.000000</td>\n",
              "      <td>1.000000</td>\n",
              "      <td>0.000000</td>\n",
              "      <td>0.0</td>\n",
              "    </tr>\n",
              "    <tr>\n",
              "      <th>50%</th>\n",
              "      <td>0.176471</td>\n",
              "      <td>0.164384</td>\n",
              "      <td>0.038134</td>\n",
              "      <td>0.500000</td>\n",
              "      <td>0.428571</td>\n",
              "      <td>0.731884</td>\n",
              "      <td>0.716667</td>\n",
              "      <td>0.000000</td>\n",
              "      <td>0.066442</td>\n",
              "      <td>0.000000</td>\n",
              "      <td>...</td>\n",
              "      <td>0.000000</td>\n",
              "      <td>0.000000</td>\n",
              "      <td>1.000000</td>\n",
              "      <td>0.0</td>\n",
              "      <td>0.000000</td>\n",
              "      <td>0.000000</td>\n",
              "      <td>0.000000</td>\n",
              "      <td>1.000000</td>\n",
              "      <td>0.000000</td>\n",
              "      <td>0.0</td>\n",
              "    </tr>\n",
              "    <tr>\n",
              "      <th>75%</th>\n",
              "      <td>0.294118</td>\n",
              "      <td>0.198630</td>\n",
              "      <td>0.048087</td>\n",
              "      <td>0.625000</td>\n",
              "      <td>0.571429</td>\n",
              "      <td>0.927536</td>\n",
              "      <td>0.900000</td>\n",
              "      <td>0.105625</td>\n",
              "      <td>0.124956</td>\n",
              "      <td>0.000000</td>\n",
              "      <td>...</td>\n",
              "      <td>0.000000</td>\n",
              "      <td>0.000000</td>\n",
              "      <td>1.000000</td>\n",
              "      <td>0.0</td>\n",
              "      <td>0.000000</td>\n",
              "      <td>0.000000</td>\n",
              "      <td>0.000000</td>\n",
              "      <td>1.000000</td>\n",
              "      <td>0.000000</td>\n",
              "      <td>0.0</td>\n",
              "    </tr>\n",
              "    <tr>\n",
              "      <th>max</th>\n",
              "      <td>1.000000</td>\n",
              "      <td>1.000000</td>\n",
              "      <td>1.000000</td>\n",
              "      <td>1.000000</td>\n",
              "      <td>1.000000</td>\n",
              "      <td>1.000000</td>\n",
              "      <td>1.000000</td>\n",
              "      <td>1.000000</td>\n",
              "      <td>1.000000</td>\n",
              "      <td>1.000000</td>\n",
              "      <td>...</td>\n",
              "      <td>1.000000</td>\n",
              "      <td>1.000000</td>\n",
              "      <td>1.000000</td>\n",
              "      <td>0.0</td>\n",
              "      <td>1.000000</td>\n",
              "      <td>1.000000</td>\n",
              "      <td>1.000000</td>\n",
              "      <td>1.000000</td>\n",
              "      <td>1.000000</td>\n",
              "      <td>0.0</td>\n",
              "    </tr>\n",
              "  </tbody>\n",
              "</table>\n",
              "<p>8 rows × 287 columns</p>\n",
              "</div>\n",
              "      <button class=\"colab-df-convert\" onclick=\"convertToInteractive('df-870b613e-4d9b-4c11-99a8-c84582ada292')\"\n",
              "              title=\"Convert this dataframe to an interactive table.\"\n",
              "              style=\"display:none;\">\n",
              "        \n",
              "  <svg xmlns=\"http://www.w3.org/2000/svg\" height=\"24px\"viewBox=\"0 0 24 24\"\n",
              "       width=\"24px\">\n",
              "    <path d=\"M0 0h24v24H0V0z\" fill=\"none\"/>\n",
              "    <path d=\"M18.56 5.44l.94 2.06.94-2.06 2.06-.94-2.06-.94-.94-2.06-.94 2.06-2.06.94zm-11 1L8.5 8.5l.94-2.06 2.06-.94-2.06-.94L8.5 2.5l-.94 2.06-2.06.94zm10 10l.94 2.06.94-2.06 2.06-.94-2.06-.94-.94-2.06-.94 2.06-2.06.94z\"/><path d=\"M17.41 7.96l-1.37-1.37c-.4-.4-.92-.59-1.43-.59-.52 0-1.04.2-1.43.59L10.3 9.45l-7.72 7.72c-.78.78-.78 2.05 0 2.83L4 21.41c.39.39.9.59 1.41.59.51 0 1.02-.2 1.41-.59l7.78-7.78 2.81-2.81c.8-.78.8-2.07 0-2.86zM5.41 20L4 18.59l7.72-7.72 1.47 1.35L5.41 20z\"/>\n",
              "  </svg>\n",
              "      </button>\n",
              "      \n",
              "  <style>\n",
              "    .colab-df-container {\n",
              "      display:flex;\n",
              "      flex-wrap:wrap;\n",
              "      gap: 12px;\n",
              "    }\n",
              "\n",
              "    .colab-df-convert {\n",
              "      background-color: #E8F0FE;\n",
              "      border: none;\n",
              "      border-radius: 50%;\n",
              "      cursor: pointer;\n",
              "      display: none;\n",
              "      fill: #1967D2;\n",
              "      height: 32px;\n",
              "      padding: 0 0 0 0;\n",
              "      width: 32px;\n",
              "    }\n",
              "\n",
              "    .colab-df-convert:hover {\n",
              "      background-color: #E2EBFA;\n",
              "      box-shadow: 0px 1px 2px rgba(60, 64, 67, 0.3), 0px 1px 3px 1px rgba(60, 64, 67, 0.15);\n",
              "      fill: #174EA6;\n",
              "    }\n",
              "\n",
              "    [theme=dark] .colab-df-convert {\n",
              "      background-color: #3B4455;\n",
              "      fill: #D2E3FC;\n",
              "    }\n",
              "\n",
              "    [theme=dark] .colab-df-convert:hover {\n",
              "      background-color: #434B5C;\n",
              "      box-shadow: 0px 1px 3px 1px rgba(0, 0, 0, 0.15);\n",
              "      filter: drop-shadow(0px 1px 2px rgba(0, 0, 0, 0.3));\n",
              "      fill: #FFFFFF;\n",
              "    }\n",
              "  </style>\n",
              "\n",
              "      <script>\n",
              "        const buttonEl =\n",
              "          document.querySelector('#df-870b613e-4d9b-4c11-99a8-c84582ada292 button.colab-df-convert');\n",
              "        buttonEl.style.display =\n",
              "          google.colab.kernel.accessAllowed ? 'block' : 'none';\n",
              "\n",
              "        async function convertToInteractive(key) {\n",
              "          const element = document.querySelector('#df-870b613e-4d9b-4c11-99a8-c84582ada292');\n",
              "          const dataTable =\n",
              "            await google.colab.kernel.invokeFunction('convertToInteractive',\n",
              "                                                     [key], {});\n",
              "          if (!dataTable) return;\n",
              "\n",
              "          const docLinkHtml = 'Like what you see? Visit the ' +\n",
              "            '<a target=\"_blank\" href=https://colab.research.google.com/notebooks/data_table.ipynb>data table notebook</a>'\n",
              "            + ' to learn more about interactive tables.';\n",
              "          element.innerHTML = '';\n",
              "          dataTable['output_type'] = 'display_data';\n",
              "          await google.colab.output.renderOutput(dataTable, element);\n",
              "          const docLink = document.createElement('div');\n",
              "          docLink.innerHTML = docLinkHtml;\n",
              "          element.appendChild(docLink);\n",
              "        }\n",
              "      </script>\n",
              "    </div>\n",
              "  </div>\n",
              "  "
            ],
            "text/plain": [
              "        MSSubClass  LotFrontage      LotArea  OverallQual  OverallCond  \\\n",
              "count  1160.000000  1160.000000  1160.000000  1160.000000  1160.000000   \n",
              "mean      0.220183     0.167357     0.043276     0.514978     0.512069   \n",
              "std       0.249438     0.076993     0.049920     0.171526     0.156206   \n",
              "min       0.000000     0.000000     0.000000     0.000000     0.000000   \n",
              "25%       0.000000     0.133562     0.028979     0.375000     0.428571   \n",
              "50%       0.176471     0.164384     0.038134     0.500000     0.428571   \n",
              "75%       0.294118     0.198630     0.048087     0.625000     0.571429   \n",
              "max       1.000000     1.000000     1.000000     1.000000     1.000000   \n",
              "\n",
              "         YearBuilt  YearRemodAdd   MasVnrArea   BsmtFinSF1   BsmtFinSF2  ...  \\\n",
              "count  1160.000000   1160.000000  1160.000000  1160.000000  1160.000000  ...   \n",
              "mean      0.720265      0.583405     0.065932     0.078090     0.041857  ...   \n",
              "std       0.218107      0.339989     0.116217     0.081836     0.144454  ...   \n",
              "min       0.000000      0.000000     0.000000     0.000000     0.000000  ...   \n",
              "25%       0.594203      0.283333     0.000000     0.000000     0.000000  ...   \n",
              "50%       0.731884      0.716667     0.000000     0.066442     0.000000  ...   \n",
              "75%       0.927536      0.900000     0.105625     0.124956     0.000000  ...   \n",
              "max       1.000000      1.000000     1.000000     1.000000     1.000000  ...   \n",
              "\n",
              "       SaleType_New  SaleType_Oth  SaleType_WD  SaleType_nan  \\\n",
              "count   1160.000000   1160.000000  1160.000000        1160.0   \n",
              "mean       0.078448      0.002586     0.870690           0.0   \n",
              "std        0.268992      0.050811     0.335688           0.0   \n",
              "min        0.000000      0.000000     0.000000           0.0   \n",
              "25%        0.000000      0.000000     1.000000           0.0   \n",
              "50%        0.000000      0.000000     1.000000           0.0   \n",
              "75%        0.000000      0.000000     1.000000           0.0   \n",
              "max        1.000000      1.000000     1.000000           0.0   \n",
              "\n",
              "       SaleCondition_AdjLand  SaleCondition_Alloca  SaleCondition_Family  \\\n",
              "count            1160.000000           1160.000000           1160.000000   \n",
              "mean                0.003448              0.007759              0.010345   \n",
              "std                 0.058646              0.087779              0.101226   \n",
              "min                 0.000000              0.000000              0.000000   \n",
              "25%                 0.000000              0.000000              0.000000   \n",
              "50%                 0.000000              0.000000              0.000000   \n",
              "75%                 0.000000              0.000000              0.000000   \n",
              "max                 1.000000              1.000000              1.000000   \n",
              "\n",
              "       SaleCondition_Normal  SaleCondition_Partial  SaleCondition_nan  \n",
              "count           1160.000000            1160.000000             1160.0  \n",
              "mean               0.826724               0.080172                0.0  \n",
              "std                0.378649               0.271677                0.0  \n",
              "min                0.000000               0.000000                0.0  \n",
              "25%                1.000000               0.000000                0.0  \n",
              "50%                1.000000               0.000000                0.0  \n",
              "75%                1.000000               0.000000                0.0  \n",
              "max                1.000000               1.000000                0.0  \n",
              "\n",
              "[8 rows x 287 columns]"
            ]
          },
          "execution_count": 23,
          "metadata": {},
          "output_type": "execute_result"
        }
      ],
      "source": [
        "scaler = MinMaxScaler()\n",
        "train_set[train_set.columns] = scaler.fit_transform(train_set[train_set.columns])\n",
        "train_set.describe()"
      ]
    },
    {
      "cell_type": "markdown",
      "metadata": {
        "id": "mBRKyLO9_zyw"
      },
      "source": [
        "## Dividing train set into X and Y sets for the model building"
      ]
    },
    {
      "cell_type": "code",
      "execution_count": 24,
      "metadata": {
        "colab": {
          "base_uri": "https://localhost:8080/"
        },
        "id": "HUXtrLr-_17_",
        "outputId": "ea737424-035c-4e13-8996-b99dcef5a393"
      },
      "outputs": [
        {
          "data": {
            "text/plain": [
              "((1160, 286), (1160,))"
            ]
          },
          "execution_count": 24,
          "metadata": {},
          "output_type": "execute_result"
        }
      ],
      "source": [
        "x_train = train_set.drop(\"SalePrice\", axis = 1)\n",
        "y_train = train_set[\"SalePrice\"].copy()\n",
        "x_train.shape, y_train.shape"
      ]
    },
    {
      "cell_type": "markdown",
      "metadata": {
        "id": "evKQG30HTiD5"
      },
      "source": [
        "## Applying the scaling on the test set"
      ]
    },
    {
      "cell_type": "code",
      "execution_count": 25,
      "metadata": {
        "id": "_vUKcQrPTSE6"
      },
      "outputs": [],
      "source": [
        "test_set[test_set.columns] = scaler.transform(test_set[test_set.columns])"
      ]
    },
    {
      "cell_type": "markdown",
      "metadata": {
        "id": "ScDtAlbePpiQ"
      },
      "source": [
        "## Dividing test set into x_test and y_test"
      ]
    },
    {
      "cell_type": "code",
      "execution_count": 26,
      "metadata": {
        "id": "5AjTxSD_Tpda"
      },
      "outputs": [],
      "source": [
        "x_test = test_set.drop('SalePrice', axis = 1)\n",
        "y_test = test_set['SalePrice'].copy()"
      ]
    },
    {
      "cell_type": "markdown",
      "metadata": {
        "id": "JGCH6xddSFMP"
      },
      "source": [
        "# Model Building"
      ]
    },
    {
      "cell_type": "markdown",
      "metadata": {
        "id": "fc44dEy-UhZT"
      },
      "source": [
        "## Linear Regression"
      ]
    },
    {
      "cell_type": "code",
      "execution_count": 27,
      "metadata": {
        "colab": {
          "base_uri": "https://localhost:8080/"
        },
        "id": "BagSYUkCBYI0",
        "outputId": "eff49d46-4247-4e3f-ccd6-611ace0dd015"
      },
      "outputs": [
        {
          "name": "stdout",
          "output_type": "stream",
          "text": [
            "Linear Regression train R2\n",
            "0.9379502764678775\n",
            "Linear Regression test R2\n",
            "-1.4239776135096187e+18\n"
          ]
        }
      ],
      "source": [
        "# Train linear regression model\n",
        "lin_reg = LinearRegression()\n",
        "lin_reg.fit(x_train, y_train)\n",
        "\n",
        "# Predictions on the basis of the model\n",
        "lin_y_pred = lin_reg.predict(x_train)\n",
        "\n",
        "# R2 for the model\n",
        "lin_reg_r2 = r2_score(y_train, lin_y_pred)\n",
        "\n",
        "# Making predictions\n",
        "lin_y_test_pred = lin_reg.predict(x_test)\n",
        "\n",
        "# R2 for the model on test set\n",
        "lin_reg_test_r2 = r2_score(y_test, lin_y_test_pred)\n",
        "\n",
        "print('Linear Regression train R2')\n",
        "print(lin_reg_r2)\n",
        "\n",
        "print('Linear Regression test R2')\n",
        "print(lin_reg_test_r2)"
      ]
    },
    {
      "cell_type": "markdown",
      "metadata": {
        "id": "bpoxR2C_VlMA"
      },
      "source": [
        "## Ridge Regression"
      ]
    },
    {
      "cell_type": "code",
      "execution_count": 117,
      "metadata": {
        "colab": {
          "base_uri": "https://localhost:8080/"
        },
        "id": "9WLYL22CWzZn",
        "outputId": "aa17b6a1-f49f-4db9-b682-8e07b9a1bb01"
      },
      "outputs": [
        {
          "name": "stdout",
          "output_type": "stream",
          "text": [
            "lambda = 0\n",
            "r2 score = 0.9326534121582021\n",
            "test r2 score = -1.8472763637217337e+26\n",
            "\n",
            "lambda = 0.001\n",
            "r2 score = 0.9374236188685785\n",
            "test r2 score = 0.8133985680160116\n",
            "\n",
            "lambda = 0.01\n",
            "r2 score = 0.9360723280505857\n",
            "test r2 score = 0.8714482647515979\n",
            "\n",
            "lambda = 0.1\n",
            "r2 score = 0.9281981166344446\n",
            "test r2 score = 0.8669427319724446\n",
            "\n",
            "lambda = 1\n",
            "r2 score = 0.9110848962660644\n",
            "test r2 score = 0.8798630144236403\n",
            "\n",
            "lambda = 10\n",
            "r2 score = 0.8802568837707178\n",
            "test r2 score = 0.8788835572196201\n",
            "\n",
            "lambda = 100\n",
            "r2 score = 0.7833561443811577\n",
            "test r2 score = 0.7914219816922687\n",
            "\n",
            "lambda = 1000\n",
            "r2 score = 0.5571880357799652\n",
            "test r2 score = 0.5854559922463742\n",
            "\n"
          ]
        }
      ],
      "source": [
        "lambdas = [0, 0.001, 0.01, 0.1, 1, 10, 100, 1000]\n",
        "\n",
        "for i in lambdas:\n",
        "  ridge_reg = Ridge(alpha = i)\n",
        "  ridge_reg.fit(x_train, y_train)\n",
        "  y_pred = ridge_reg.predict(x_train)\n",
        "  y_test_pred = ridge_reg.predict(x_test)\n",
        "  print(\"lambda = \" + str(i))\n",
        "  print(\"r2 score = \" + str(r2_score(y_train, y_pred)))\n",
        "  print(\"test r2 score = \" + str(r2_score(y_test, y_test_pred)) + '\\n')"
      ]
    },
    {
      "cell_type": "markdown",
      "metadata": {
        "id": "k9LUPomXCnH-"
      },
      "source": [
        "## Lasso Regression"
      ]
    },
    {
      "cell_type": "code",
      "execution_count": 118,
      "metadata": {
        "colab": {
          "base_uri": "https://localhost:8080/"
        },
        "id": "3F7RI1vUCnH-",
        "outputId": "c70a28d1-b44e-44f1-b821-46930d69138e"
      },
      "outputs": [
        {
          "name": "stdout",
          "output_type": "stream",
          "text": [
            "lambda = 0.0001\n",
            "r2 score = 0.9017882745263048\n",
            "test r2 score = 0.8825291441819844\n",
            "\n",
            "lambda = 0.001\n",
            "r2 score = 0.8206794720673554\n",
            "test r2 score = 0.8286865974940771\n",
            "\n",
            "lambda = 0.01\n",
            "r2 score = 0.4493787349568892\n",
            "test r2 score = 0.46646178186438203\n",
            "\n",
            "lambda = 0.1\n",
            "r2 score = 0.0\n",
            "test r2 score = -0.0009822998153659057\n",
            "\n",
            "lambda = 1\n",
            "r2 score = 0.0\n",
            "test r2 score = -0.0009822998153659057\n",
            "\n",
            "lambda = 10\n",
            "r2 score = 0.0\n",
            "test r2 score = -0.0009822998153659057\n",
            "\n",
            "lambda = 100\n",
            "r2 score = 0.0\n",
            "test r2 score = -0.0009822998153659057\n",
            "\n",
            "lambda = 1000\n",
            "r2 score = 0.0\n",
            "test r2 score = -0.0009822998153659057\n",
            "\n"
          ]
        }
      ],
      "source": [
        "# Applying Lasso Regression with varying the hyperparameter 'lambda'\n",
        "lambdas = [0.0001, 0.001, 0.01, 0.1, 1, 10, 100, 1000]\n",
        "\n",
        "for i in lambdas:\n",
        "  lasso_reg = Lasso(alpha = i) # Create a Lasso regression model\n",
        "  lasso_reg.fit(x_train, y_train) # Train the model\n",
        "  y_pred = lasso_reg.predict(x_train)\n",
        "  y_test_pred = lasso_reg.predict(x_test)\n",
        "\n",
        "  print(\"lambda = \" + str(i))\n",
        "  print(\"r2 score = \" + str(r2_score(y_train, y_pred)))\n",
        "  print(\"test r2 score = \" + str(r2_score(y_test, y_test_pred)) + '\\n')"
      ]
    },
    {
      "cell_type": "markdown",
      "metadata": {
        "id": "N6Od2njtmBNt"
      },
      "source": [
        "## Ridge and Lasso Comparison"
      ]
    },
    {
      "cell_type": "markdown",
      "metadata": {
        "id": "vsJKZbrjmH9C"
      },
      "source": [
        "### Ridge"
      ]
    },
    {
      "cell_type": "code",
      "execution_count": 119,
      "metadata": {
        "id": "wLRY5_7wPLX1"
      },
      "outputs": [],
      "source": [
        "def test_ridge_model(\n",
        "    x_train: pd.DataFrame, \n",
        "    y_train: pd.Series, \n",
        "    x_test: pd.DataFrame, \n",
        "    y_test: pd.Series, \n",
        "    alpha: float = 1,\n",
        "    bound: float = 0.05\n",
        "    ):\n",
        "  ridge_reg = Ridge(alpha = alpha)\n",
        "  ridge_reg.fit(x_train, y_train)\n",
        "  y_pred = ridge_reg.predict(x_train)\n",
        "  y_test_pred = ridge_reg.predict(x_test)\n",
        "\n",
        "  ridge_coef = pd.DataFrame(ridge_reg.coef_, \n",
        "              x_train.columns, \n",
        "              columns=['coef'])\n",
        "  non_zero_ridge_coef = ridge_coef[((ridge_coef < -bound) | (ridge_coef > bound))]\n",
        "  non_zero_ridge_coef.drop_duplicates(inplace=True)\n",
        "  print(non_zero_ridge_coef.sort_values(by='coef'))\n",
        "\n",
        "  print('\\n' + \"r2 score = \" + str(r2_score(y_train, y_pred)))\n",
        "  print(\"test r2 score = \" + str(r2_score(y_test, y_test_pred)) + '\\n')"
      ]
    },
    {
      "cell_type": "code",
      "execution_count": 120,
      "metadata": {
        "colab": {
          "base_uri": "https://localhost:8080/"
        },
        "id": "4f42D1iTmJxd",
        "outputId": "20630ad7-15ca-4084-b7a2-0df5690096cb"
      },
      "outputs": [
        {
          "name": "stdout",
          "output_type": "stream",
          "text": [
            "                          coef\n",
            "PoolQC_Gd            -0.182309\n",
            "Condition2_PosN      -0.128179\n",
            "Neighborhood_StoneBr  0.053420\n",
            "Neighborhood_NoRidge  0.053720\n",
            "PoolArea              0.071477\n",
            "LotArea               0.086059\n",
            "OverallQual           0.091134\n",
            "1stFlrSF              0.107041\n",
            "2ndFlrSF              0.110692\n",
            "GrLivArea             0.133180\n",
            "RoofMatl_WdShngl      0.147431\n",
            "MSSubClass                 NaN\n",
            "\n",
            "r2 score = 0.9110848962660644\n",
            "test r2 score = 0.8798630144236403\n",
            "\n"
          ]
        }
      ],
      "source": [
        "# Ridge regression with best lambda = 1\n",
        "test_ridge_model(x_train, y_train, x_test, y_test)"
      ]
    },
    {
      "cell_type": "markdown",
      "metadata": {
        "id": "q1-OHD2emFGf"
      },
      "source": [
        "### Lasso"
      ]
    },
    {
      "cell_type": "code",
      "execution_count": 121,
      "metadata": {
        "id": "rwtzbWkPQPE1"
      },
      "outputs": [],
      "source": [
        "def test_lasso_model(\n",
        "    x_train: pd.DataFrame, \n",
        "    y_train: pd.Series, \n",
        "    x_test: pd.DataFrame, \n",
        "    y_test: pd.Series, \n",
        "    alpha: float = 0.0001,\n",
        "    bound: float = 0.05\n",
        "    ):\n",
        "  lasso_reg = Lasso(alpha = alpha) # Create a Lasso regression model\n",
        "  lasso_reg.fit(x_train, y_train) # Train the model\n",
        "  y_pred = lasso_reg.predict(x_train)\n",
        "  y_test_pred = lasso_reg.predict(x_test)\n",
        "\n",
        "  lasso_coef = pd.DataFrame(lasso_reg.coef_, \n",
        "              x_train.columns, \n",
        "              columns=['coef'])\n",
        "  non_zero_lasso_coef = lasso_coef[((lasso_coef < -bound) | (lasso_coef > bound))]\n",
        "  non_zero_lasso_coef.drop_duplicates(inplace=True)\n",
        "  print(non_zero_lasso_coef.sort_values(by='coef'))\n",
        "\n",
        "  print('\\n' + \"r2 score = \" + str(r2_score(y_train, y_pred)))\n",
        "  print(\"test r2 score = \" + str(r2_score(y_test, y_test_pred)) + '\\n')"
      ]
    },
    {
      "cell_type": "code",
      "execution_count": 122,
      "metadata": {
        "colab": {
          "base_uri": "https://localhost:8080/"
        },
        "id": "KzFEDCJLaNvr",
        "outputId": "2b1592c1-9ab3-4197-e763-0e6256b4e366"
      },
      "outputs": [
        {
          "name": "stdout",
          "output_type": "stream",
          "text": [
            "                          coef\n",
            "PoolQC_Gd            -0.242487\n",
            "Condition2_PosN      -0.173952\n",
            "Neighborhood_StoneBr  0.051566\n",
            "LotArea               0.057732\n",
            "Neighborhood_NoRidge  0.057896\n",
            "PoolArea              0.063868\n",
            "OverallQual           0.110220\n",
            "RoofMatl_WdShngl      0.110843\n",
            "GrLivArea             0.335514\n",
            "MSSubClass                 NaN\n",
            "\n",
            "r2 score = 0.9017882745263048\n",
            "test r2 score = 0.8825291441819844\n",
            "\n"
          ]
        }
      ],
      "source": [
        "# Lasso regression with best lambda\n",
        "test_lasso_model(x_train, y_train, x_test, y_test)"
      ]
    },
    {
      "cell_type": "markdown",
      "metadata": {
        "id": "LgW54cBsH1Fh"
      },
      "source": [
        "### Model decision\n",
        "\n",
        "Lasso Regression model provides a marginally better r2 score as compared to Ridge model. \n",
        "\n",
        "The ridge model also have a pair of decently correlated features included in the model, namely 1stFlrSF & 2ndFlrSF.\n",
        "\n",
        "Therefore we choose to use Lasso model for our interpretation."
      ]
    },
    {
      "cell_type": "markdown",
      "metadata": {
        "id": "47Kepz6UHg7-"
      },
      "source": [
        "# Conclusion"
      ]
    },
    {
      "cell_type": "markdown",
      "metadata": {
        "id": "MtUzIfiHI5nJ"
      },
      "source": [
        "## Most significant features\n",
        "\n",
        "1. ***GrLivArea (Above ground living area)*** : accounts for about 33% variation in price.\n",
        "2. ***PoolQC_Gd (Pool quality - good)***  : Cause a price drops of about 24%\n",
        "3. ***Condition2_PosN (Near positive off-site feature--park, greenbelt, etc.)*** : cause a price drop of about 17%\n",
        "4. ***RoofMatl_WdShngl (Roof material - Wood Shingles)*** : increase the price by about 11%\n",
        "5. ***OverallQual (Overall Quality)*** : accounts for about 11% variation in price."
      ]
    },
    {
      "cell_type": "markdown",
      "metadata": {
        "id": "1P2QVpgILB3O"
      },
      "source": [
        "## How well those variables describe the price of a house."
      ]
    },
    {
      "cell_type": "markdown",
      "metadata": {
        "id": "5hwcH33zLfQR"
      },
      "source": [
        "### Building a model with just these 5 features"
      ]
    },
    {
      "cell_type": "code",
      "execution_count": 123,
      "metadata": {
        "colab": {
          "base_uri": "https://localhost:8080/"
        },
        "id": "xK1ZzuPQHAtL",
        "outputId": "6a17a7d1-69eb-4e43-f85f-1d09aca5d9ad"
      },
      "outputs": [
        {
          "name": "stdout",
          "output_type": "stream",
          "text": [
            "                      coef\n",
            "PoolQC_Gd        -0.161628\n",
            "Condition2_PosN  -0.117409\n",
            "RoofMatl_WdShngl  0.092064\n",
            "OverallQual       0.363777\n",
            "GrLivArea         0.399556\n",
            "\n",
            "r2 score = 0.7297551401269833\n",
            "test r2 score = 0.6993390329174162\n",
            "\n"
          ]
        }
      ],
      "source": [
        "significant_features = ['GrLivArea', 'PoolQC_Gd', 'Condition2_PosN', 'RoofMatl_WdShngl', 'OverallQual']\n",
        "x_train_sig = x_train[significant_features]\n",
        "x_test_sig = x_test[significant_features]\n",
        "\n",
        "test_lasso_model(x_train_sig, y_train, x_test_sig, y_test)"
      ]
    },
    {
      "cell_type": "markdown",
      "metadata": {
        "id": "zvshEIUbMbGi"
      },
      "source": [
        "### Conclusion\n",
        "The 5 most significant features account for about 70% of variance in Sale Price."
      ]
    },
    {
      "cell_type": "markdown",
      "metadata": {
        "id": "uoQrRZ5xO8ed"
      },
      "source": [
        "# Solution for subjective questions"
      ]
    },
    {
      "cell_type": "markdown",
      "metadata": {
        "id": "YOIp0iUXPAqO"
      },
      "source": [
        "## Q1\n",
        "\n",
        "What is the optimal value of alpha for ridge and lasso regression? What will be the changes in the model if you choose double the value of alpha for both ridge and lasso? What will be the most important predictor variables after the change is implemented?"
      ]
    },
    {
      "cell_type": "code",
      "execution_count": 124,
      "metadata": {
        "colab": {
          "base_uri": "https://localhost:8080/"
        },
        "id": "T9Y7bmIXSJcT",
        "outputId": "5d4142ec-1f28-45ce-c1e0-fd10bb256229"
      },
      "outputs": [
        {
          "name": "stdout",
          "output_type": "stream",
          "text": [
            "                          coef\n",
            "PoolQC_Gd            -0.116375\n",
            "Condition2_PosN      -0.090553\n",
            "Neighborhood_StoneBr  0.052689\n",
            "Neighborhood_NoRidge  0.057098\n",
            "LotArea               0.058244\n",
            "1stFlrSF              0.087045\n",
            "OverallQual           0.090782\n",
            "2ndFlrSF              0.099355\n",
            "RoofMatl_WdShngl      0.110623\n",
            "GrLivArea             0.112285\n",
            "MSSubClass                 NaN\n",
            "\n",
            "r2 score = 0.9037129362973997\n",
            "test r2 score = 0.8840757397814535\n",
            "\n"
          ]
        }
      ],
      "source": [
        "test_ridge_model(x_train, y_train, x_test, y_test, alpha=2)"
      ]
    },
    {
      "cell_type": "code",
      "execution_count": 125,
      "metadata": {
        "colab": {
          "base_uri": "https://localhost:8080/"
        },
        "id": "JYUx4Io0UXCx",
        "outputId": "a5df9fbb-939c-40db-fc3d-8d4c0359c5f3"
      },
      "outputs": [
        {
          "name": "stdout",
          "output_type": "stream",
          "text": [
            "                          coef\n",
            "PoolQC_Gd            -0.102269\n",
            "Condition2_PosN      -0.091980\n",
            "Neighborhood_NoRidge  0.061211\n",
            "RoofMatl_WdShngl      0.084714\n",
            "OverallQual           0.123118\n",
            "GrLivArea             0.310687\n",
            "MSSubClass                 NaN\n",
            "\n",
            "r2 score = 0.8857947644516827\n",
            "test r2 score = 0.8860056862385773\n",
            "\n"
          ]
        }
      ],
      "source": [
        "test_lasso_model(x_train, y_train, x_test, y_test, alpha=0.0002)"
      ]
    },
    {
      "cell_type": "markdown",
      "metadata": {
        "id": "6YYRywwCSHYx"
      },
      "source": [
        "## Q3"
      ]
    },
    {
      "cell_type": "code",
      "execution_count": 56,
      "metadata": {
        "colab": {
          "base_uri": "https://localhost:8080/"
        },
        "id": "NEaoHsiTMAzi",
        "outputId": "69ecf8c1-f72e-4d51-cd7a-3530c43b9474"
      },
      "outputs": [
        {
          "name": "stdout",
          "output_type": "stream",
          "text": [
            "                          coef\n",
            "GarageArea            0.051450\n",
            "Neighborhood_NoRidge  0.068737\n",
            "Neighborhood_StoneBr  0.068896\n",
            "2ndFlrSF              0.167400\n",
            "1stFlrSF              0.279842\n",
            "MSSubClass                 NaN\n",
            "\n",
            "r2 score = 0.8771789556299109\n",
            "test r2 score = 0.8903262471963085\n",
            "\n"
          ]
        }
      ],
      "source": [
        "x_train_new = x_train.drop(['GrLivArea', 'PoolQC_Gd', 'Condition2_PosN', 'RoofMatl_WdShngl', 'OverallQual'], axis=1)\n",
        "x_test_new = x_test.drop(['GrLivArea', 'PoolQC_Gd', 'Condition2_PosN', 'RoofMatl_WdShngl', 'OverallQual'], axis=1)\n",
        "\n",
        "test_lasso_model(x_train_new, y_train, x_test_new, y_test)"
      ]
    },
    {
      "cell_type": "code",
      "execution_count": 54,
      "metadata": {
        "colab": {
          "base_uri": "https://localhost:8080/"
        },
        "id": "cq6DAzI1RhJI",
        "outputId": "99b049c8-01f4-4155-8412-bb7d9fef76f8"
      },
      "outputs": [
        {
          "data": {
            "text/plain": [
              "(1160, 281)"
            ]
          },
          "execution_count": 54,
          "metadata": {},
          "output_type": "execute_result"
        }
      ],
      "source": []
    },
    {
      "cell_type": "code",
      "execution_count": null,
      "metadata": {
        "id": "fh0PL4UMRi8k"
      },
      "outputs": [],
      "source": []
    },
    {
      "cell_type": "code",
      "execution_count": null,
      "metadata": {
        "id": "eq0aS8DjRlvk"
      },
      "outputs": [],
      "source": []
    }
  ],
  "metadata": {
    "colab": {
      "collapsed_sections": [],
      "name": "Australian_Housing_Price_Advanced_Regression.ipynb",
      "provenance": [],
      "toc_visible": true
    },
    "kernelspec": {
      "display_name": "Python 3",
      "name": "python3"
    },
    "language_info": {
      "name": "python"
    }
  },
  "nbformat": 4,
  "nbformat_minor": 0
}
